{
  "nbformat": 4,
  "nbformat_minor": 0,
  "metadata": {
    "colab": {
      "name": "Revisiting_Rainbow_main.ipynb",
      "provenance": [],
      "collapsed_sections": []
    },
    "kernelspec": {
      "display_name": "Python 3",
      "name": "python3"
    }
  },
  "cells": [
    {
      "cell_type": "code",
      "metadata": {
        "colab": {
          "base_uri": "https://localhost:8080/"
        },
        "id": "z2lgEapiFq0t",
        "outputId": "d216556b-8a2a-4a18-a160-66aaa321cb49"
      },
      "source": [
        "'''\n",
        "Revisiting Rainbow: Promoting more insightful and inclusive deep reinforcement learning research.\n",
        "Obando-Ceron, Johan S and Castro, Pablo Samuel\n",
        "'''\n",
        "\n",
        "'''\n",
        "Install to use MinAtar env.\n",
        "\n",
        "!git clone https://github.com/kenjyoung/MinAtar.git\n",
        "%cd MinAtar\n",
        "!pip install .\n",
        "'''\n",
        "\n",
        "'''\n",
        "Install to use LunarLander env.\n",
        "\n",
        "!apt install swig\n",
        "!pip install box2d box2d-kengz\n",
        "'''\n",
        "\n",
        "!pip install dm-env\n",
        "!pip install dopamine-rl==3.1.10"
      ],
      "execution_count": 1,
      "outputs": [
        {
          "output_type": "stream",
          "text": [
            "Requirement already satisfied: dm-env in /usr/local/lib/python3.7/dist-packages (1.4)\n",
            "Requirement already satisfied: absl-py in /usr/local/lib/python3.7/dist-packages (from dm-env) (0.12.0)\n",
            "Requirement already satisfied: numpy in /usr/local/lib/python3.7/dist-packages (from dm-env) (1.19.5)\n",
            "Requirement already satisfied: dm-tree in /usr/local/lib/python3.7/dist-packages (from dm-env) (0.1.6)\n",
            "Requirement already satisfied: six in /usr/local/lib/python3.7/dist-packages (from absl-py->dm-env) (1.15.0)\n",
            "Requirement already satisfied: dopamine-rl==3.1.10 in /usr/local/lib/python3.7/dist-packages (3.1.10)\n",
            "Requirement already satisfied: gym[atari]>=0.13.1 in /usr/local/lib/python3.7/dist-packages (from dopamine-rl==3.1.10) (0.17.3)\n",
            "Requirement already satisfied: absl-py>=0.9.0 in /usr/local/lib/python3.7/dist-packages (from dopamine-rl==3.1.10) (0.12.0)\n",
            "Requirement already satisfied: tf-slim>=1.0 in /usr/local/lib/python3.7/dist-packages (from dopamine-rl==3.1.10) (1.1.0)\n",
            "Requirement already satisfied: opencv-python>=3.4.8.29 in /usr/local/lib/python3.7/dist-packages (from dopamine-rl==3.1.10) (4.1.2.30)\n",
            "Requirement already satisfied: gin-config>=0.3.0 in /usr/local/lib/python3.7/dist-packages (from dopamine-rl==3.1.10) (0.4.0)\n",
            "Requirement already satisfied: jax>=0.1.72 in /usr/local/lib/python3.7/dist-packages (from dopamine-rl==3.1.10) (0.2.13)\n",
            "Requirement already satisfied: numpy>=1.16.4 in /usr/local/lib/python3.7/dist-packages (from dopamine-rl==3.1.10) (1.19.5)\n",
            "Requirement already satisfied: pygame>=1.9.2 in /usr/local/lib/python3.7/dist-packages (from dopamine-rl==3.1.10) (2.0.1)\n",
            "Requirement already satisfied: Pillow>=7.0.0 in /usr/local/lib/python3.7/dist-packages (from dopamine-rl==3.1.10) (7.1.2)\n",
            "Requirement already satisfied: tensorflow>=2.2.0 in /usr/local/lib/python3.7/dist-packages (from dopamine-rl==3.1.10) (2.5.0)\n",
            "Requirement already satisfied: flax>=0.2.0 in /usr/local/lib/python3.7/dist-packages (from dopamine-rl==3.1.10) (0.3.4)\n",
            "Requirement already satisfied: jaxlib>=0.1.51 in /usr/local/lib/python3.7/dist-packages (from dopamine-rl==3.1.10) (0.1.66+cuda110)\n",
            "Requirement already satisfied: pandas>=0.24.2 in /usr/local/lib/python3.7/dist-packages (from dopamine-rl==3.1.10) (1.1.5)\n",
            "Requirement already satisfied: scipy in /usr/local/lib/python3.7/dist-packages (from gym[atari]>=0.13.1->dopamine-rl==3.1.10) (1.4.1)\n",
            "Requirement already satisfied: pyglet<=1.5.0,>=1.4.0 in /usr/local/lib/python3.7/dist-packages (from gym[atari]>=0.13.1->dopamine-rl==3.1.10) (1.5.0)\n",
            "Requirement already satisfied: cloudpickle<1.7.0,>=1.2.0 in /usr/local/lib/python3.7/dist-packages (from gym[atari]>=0.13.1->dopamine-rl==3.1.10) (1.3.0)\n",
            "Requirement already satisfied: atari-py~=0.2.0; extra == \"atari\" in /usr/local/lib/python3.7/dist-packages (from gym[atari]>=0.13.1->dopamine-rl==3.1.10) (0.2.9)\n",
            "Requirement already satisfied: six in /usr/local/lib/python3.7/dist-packages (from absl-py>=0.9.0->dopamine-rl==3.1.10) (1.15.0)\n",
            "Requirement already satisfied: opt-einsum in /usr/local/lib/python3.7/dist-packages (from jax>=0.1.72->dopamine-rl==3.1.10) (3.3.0)\n",
            "Requirement already satisfied: flatbuffers~=1.12.0 in /usr/local/lib/python3.7/dist-packages (from tensorflow>=2.2.0->dopamine-rl==3.1.10) (1.12)\n",
            "Requirement already satisfied: tensorflow-estimator<2.6.0,>=2.5.0rc0 in /usr/local/lib/python3.7/dist-packages (from tensorflow>=2.2.0->dopamine-rl==3.1.10) (2.5.0)\n",
            "Requirement already satisfied: wrapt~=1.12.1 in /usr/local/lib/python3.7/dist-packages (from tensorflow>=2.2.0->dopamine-rl==3.1.10) (1.12.1)\n",
            "Requirement already satisfied: h5py~=3.1.0 in /usr/local/lib/python3.7/dist-packages (from tensorflow>=2.2.0->dopamine-rl==3.1.10) (3.1.0)\n",
            "Requirement already satisfied: tensorboard~=2.5 in /usr/local/lib/python3.7/dist-packages (from tensorflow>=2.2.0->dopamine-rl==3.1.10) (2.5.0)\n",
            "Requirement already satisfied: keras-nightly~=2.5.0.dev in /usr/local/lib/python3.7/dist-packages (from tensorflow>=2.2.0->dopamine-rl==3.1.10) (2.5.0.dev2021032900)\n",
            "Requirement already satisfied: typing-extensions~=3.7.4 in /usr/local/lib/python3.7/dist-packages (from tensorflow>=2.2.0->dopamine-rl==3.1.10) (3.7.4.3)\n",
            "Requirement already satisfied: google-pasta~=0.2 in /usr/local/lib/python3.7/dist-packages (from tensorflow>=2.2.0->dopamine-rl==3.1.10) (0.2.0)\n",
            "Requirement already satisfied: protobuf>=3.9.2 in /usr/local/lib/python3.7/dist-packages (from tensorflow>=2.2.0->dopamine-rl==3.1.10) (3.12.4)\n",
            "Requirement already satisfied: termcolor~=1.1.0 in /usr/local/lib/python3.7/dist-packages (from tensorflow>=2.2.0->dopamine-rl==3.1.10) (1.1.0)\n",
            "Requirement already satisfied: astunparse~=1.6.3 in /usr/local/lib/python3.7/dist-packages (from tensorflow>=2.2.0->dopamine-rl==3.1.10) (1.6.3)\n",
            "Requirement already satisfied: grpcio~=1.34.0 in /usr/local/lib/python3.7/dist-packages (from tensorflow>=2.2.0->dopamine-rl==3.1.10) (1.34.1)\n",
            "Requirement already satisfied: keras-preprocessing~=1.1.2 in /usr/local/lib/python3.7/dist-packages (from tensorflow>=2.2.0->dopamine-rl==3.1.10) (1.1.2)\n",
            "Requirement already satisfied: gast==0.4.0 in /usr/local/lib/python3.7/dist-packages (from tensorflow>=2.2.0->dopamine-rl==3.1.10) (0.4.0)\n",
            "Requirement already satisfied: wheel~=0.35 in /usr/local/lib/python3.7/dist-packages (from tensorflow>=2.2.0->dopamine-rl==3.1.10) (0.36.2)\n",
            "Requirement already satisfied: optax in /usr/local/lib/python3.7/dist-packages (from flax>=0.2.0->dopamine-rl==3.1.10) (0.0.6)\n",
            "Requirement already satisfied: msgpack in /usr/local/lib/python3.7/dist-packages (from flax>=0.2.0->dopamine-rl==3.1.10) (1.0.2)\n",
            "Requirement already satisfied: matplotlib in /usr/local/lib/python3.7/dist-packages (from flax>=0.2.0->dopamine-rl==3.1.10) (3.2.2)\n",
            "Requirement already satisfied: python-dateutil>=2.7.3 in /usr/local/lib/python3.7/dist-packages (from pandas>=0.24.2->dopamine-rl==3.1.10) (2.8.1)\n",
            "Requirement already satisfied: pytz>=2017.2 in /usr/local/lib/python3.7/dist-packages (from pandas>=0.24.2->dopamine-rl==3.1.10) (2018.9)\n",
            "Requirement already satisfied: future in /usr/local/lib/python3.7/dist-packages (from pyglet<=1.5.0,>=1.4.0->gym[atari]>=0.13.1->dopamine-rl==3.1.10) (0.16.0)\n",
            "Requirement already satisfied: cached-property; python_version < \"3.8\" in /usr/local/lib/python3.7/dist-packages (from h5py~=3.1.0->tensorflow>=2.2.0->dopamine-rl==3.1.10) (1.5.2)\n",
            "Requirement already satisfied: markdown>=2.6.8 in /usr/local/lib/python3.7/dist-packages (from tensorboard~=2.5->tensorflow>=2.2.0->dopamine-rl==3.1.10) (3.3.4)\n",
            "Requirement already satisfied: google-auth<2,>=1.6.3 in /usr/local/lib/python3.7/dist-packages (from tensorboard~=2.5->tensorflow>=2.2.0->dopamine-rl==3.1.10) (1.30.0)\n",
            "Requirement already satisfied: tensorboard-plugin-wit>=1.6.0 in /usr/local/lib/python3.7/dist-packages (from tensorboard~=2.5->tensorflow>=2.2.0->dopamine-rl==3.1.10) (1.8.0)\n",
            "Requirement already satisfied: google-auth-oauthlib<0.5,>=0.4.1 in /usr/local/lib/python3.7/dist-packages (from tensorboard~=2.5->tensorflow>=2.2.0->dopamine-rl==3.1.10) (0.4.4)\n",
            "Requirement already satisfied: requests<3,>=2.21.0 in /usr/local/lib/python3.7/dist-packages (from tensorboard~=2.5->tensorflow>=2.2.0->dopamine-rl==3.1.10) (2.23.0)\n",
            "Requirement already satisfied: setuptools>=41.0.0 in /usr/local/lib/python3.7/dist-packages (from tensorboard~=2.5->tensorflow>=2.2.0->dopamine-rl==3.1.10) (57.0.0)\n",
            "Requirement already satisfied: werkzeug>=0.11.15 in /usr/local/lib/python3.7/dist-packages (from tensorboard~=2.5->tensorflow>=2.2.0->dopamine-rl==3.1.10) (1.0.1)\n",
            "Requirement already satisfied: tensorboard-data-server<0.7.0,>=0.6.0 in /usr/local/lib/python3.7/dist-packages (from tensorboard~=2.5->tensorflow>=2.2.0->dopamine-rl==3.1.10) (0.6.1)\n",
            "Requirement already satisfied: chex>=0.0.4 in /usr/local/lib/python3.7/dist-packages (from optax->flax>=0.2.0->dopamine-rl==3.1.10) (0.0.7)\n",
            "Requirement already satisfied: cycler>=0.10 in /usr/local/lib/python3.7/dist-packages (from matplotlib->flax>=0.2.0->dopamine-rl==3.1.10) (0.10.0)\n",
            "Requirement already satisfied: kiwisolver>=1.0.1 in /usr/local/lib/python3.7/dist-packages (from matplotlib->flax>=0.2.0->dopamine-rl==3.1.10) (1.3.1)\n",
            "Requirement already satisfied: pyparsing!=2.0.4,!=2.1.2,!=2.1.6,>=2.0.1 in /usr/local/lib/python3.7/dist-packages (from matplotlib->flax>=0.2.0->dopamine-rl==3.1.10) (2.4.7)\n",
            "Requirement already satisfied: importlib-metadata; python_version < \"3.8\" in /usr/local/lib/python3.7/dist-packages (from markdown>=2.6.8->tensorboard~=2.5->tensorflow>=2.2.0->dopamine-rl==3.1.10) (4.0.1)\n",
            "Requirement already satisfied: cachetools<5.0,>=2.0.0 in /usr/local/lib/python3.7/dist-packages (from google-auth<2,>=1.6.3->tensorboard~=2.5->tensorflow>=2.2.0->dopamine-rl==3.1.10) (4.2.2)\n",
            "Requirement already satisfied: pyasn1-modules>=0.2.1 in /usr/local/lib/python3.7/dist-packages (from google-auth<2,>=1.6.3->tensorboard~=2.5->tensorflow>=2.2.0->dopamine-rl==3.1.10) (0.2.8)\n",
            "Requirement already satisfied: rsa<5,>=3.1.4; python_version >= \"3.6\" in /usr/local/lib/python3.7/dist-packages (from google-auth<2,>=1.6.3->tensorboard~=2.5->tensorflow>=2.2.0->dopamine-rl==3.1.10) (4.7.2)\n",
            "Requirement already satisfied: requests-oauthlib>=0.7.0 in /usr/local/lib/python3.7/dist-packages (from google-auth-oauthlib<0.5,>=0.4.1->tensorboard~=2.5->tensorflow>=2.2.0->dopamine-rl==3.1.10) (1.3.0)\n",
            "Requirement already satisfied: chardet<4,>=3.0.2 in /usr/local/lib/python3.7/dist-packages (from requests<3,>=2.21.0->tensorboard~=2.5->tensorflow>=2.2.0->dopamine-rl==3.1.10) (3.0.4)\n",
            "Requirement already satisfied: certifi>=2017.4.17 in /usr/local/lib/python3.7/dist-packages (from requests<3,>=2.21.0->tensorboard~=2.5->tensorflow>=2.2.0->dopamine-rl==3.1.10) (2020.12.5)\n",
            "Requirement already satisfied: idna<3,>=2.5 in /usr/local/lib/python3.7/dist-packages (from requests<3,>=2.21.0->tensorboard~=2.5->tensorflow>=2.2.0->dopamine-rl==3.1.10) (2.10)\n",
            "Requirement already satisfied: urllib3!=1.25.0,!=1.25.1,<1.26,>=1.21.1 in /usr/local/lib/python3.7/dist-packages (from requests<3,>=2.21.0->tensorboard~=2.5->tensorflow>=2.2.0->dopamine-rl==3.1.10) (1.24.3)\n",
            "Requirement already satisfied: toolz>=0.9.0 in /usr/local/lib/python3.7/dist-packages (from chex>=0.0.4->optax->flax>=0.2.0->dopamine-rl==3.1.10) (0.11.1)\n",
            "Requirement already satisfied: dm-tree>=0.1.5 in /usr/local/lib/python3.7/dist-packages (from chex>=0.0.4->optax->flax>=0.2.0->dopamine-rl==3.1.10) (0.1.6)\n",
            "Requirement already satisfied: zipp>=0.5 in /usr/local/lib/python3.7/dist-packages (from importlib-metadata; python_version < \"3.8\"->markdown>=2.6.8->tensorboard~=2.5->tensorflow>=2.2.0->dopamine-rl==3.1.10) (3.4.1)\n",
            "Requirement already satisfied: pyasn1<0.5.0,>=0.4.6 in /usr/local/lib/python3.7/dist-packages (from pyasn1-modules>=0.2.1->google-auth<2,>=1.6.3->tensorboard~=2.5->tensorflow>=2.2.0->dopamine-rl==3.1.10) (0.4.8)\n",
            "Requirement already satisfied: oauthlib>=3.0.0 in /usr/local/lib/python3.7/dist-packages (from requests-oauthlib>=0.7.0->google-auth-oauthlib<0.5,>=0.4.1->tensorboard~=2.5->tensorflow>=2.2.0->dopamine-rl==3.1.10) (3.1.0)\n"
          ],
          "name": "stdout"
        }
      ]
    },
    {
      "cell_type": "code",
      "metadata": {
        "id": "IVzjoJRL8Ovi"
      },
      "source": [
        "import numpy as np\n",
        "import os\n",
        "import sys\n",
        "import dopamine\n",
        "from dopamine.discrete_domains import run_experiment\n",
        "from dopamine.colab import utils as colab_utils\n",
        "from absl import flags\n",
        "import gin.tf"
      ],
      "execution_count": 2,
      "outputs": []
    },
    {
      "cell_type": "code",
      "metadata": {
        "id": "AmRkIkeywYyL"
      },
      "source": [
        "import matplotlib\n",
        "#matplotlib.use('TKAgg')\n",
        "\n",
        "#import minatar\n",
        "#minatar.__version__"
      ],
      "execution_count": 3,
      "outputs": []
    },
    {
      "cell_type": "code",
      "metadata": {
        "colab": {
          "base_uri": "https://localhost:8080/"
        },
        "id": "H7Skt7G2LDOJ",
        "outputId": "d6304763-3dbd-4660-e248-0b366b4f17e1"
      },
      "source": [
        "from google.colab import drive \n",
        "drive.mount('/content/drive')\n",
        "\n",
        "path = '/content/drive/My Drive/SaveFiles/test/'\n",
        "LOG_PATH = os.path.join(path, 'dqn_test')\n",
        "sys.path.append(path)\n"
      ],
      "execution_count": 4,
      "outputs": [
        {
          "output_type": "stream",
          "text": [
            "Drive already mounted at /content/drive; to attempt to forcibly remount, call drive.mount(\"/content/drive\", force_remount=True).\n"
          ],
          "name": "stdout"
        }
      ]
    },
    {
      "cell_type": "code",
      "metadata": {
        "id": "KxNfCIy4MKuB"
      },
      "source": [
        "from dqn_agent_new import*\n",
        "#from rainbow_agent_new import*\n",
        "#from quantile_agent_new import*\n",
        "#from implicit_quantile_agent_new import*"
      ],
      "execution_count": 5,
      "outputs": []
    },
    {
      "cell_type": "code",
      "metadata": {
        "colab": {
          "base_uri": "https://localhost:8080/"
        },
        "id": "5rVXXtYF8TXw",
        "outputId": "7da3c8d9-17fb-478e-9ec6-dda07bf030b8"
      },
      "source": [
        "def create_random_dqn_agent(sess, environment, summary_writer=None):\n",
        "  \"\"\"The Runner class will expect a function of this type to create an agent.\"\"\"\n",
        "  return JaxDQNAgentNew(num_actions=environment.action_space.n)\n",
        "  #return JaxRainbowAgentNew(num_actions=environment.action_space.n)\n",
        "  #return JaxQuantileAgentNew(num_actions=environment.action_space.n)\n",
        "  #return JaxImplicitQuantileAgentNew(num_actions=environment.action_space.n)\n",
        " \n",
        "gin.parse_config_file('/content/drive/My Drive/SaveFiles/test/dqn_cartpole.gin')\n",
        "#gin.parse_config_file('/content/drive/My Drive/SaveFiles/test/dqn_acrobot.gin')\n",
        "\n",
        "random_dqn_runner = run_experiment.TrainRunner(LOG_PATH, create_random_dqn_agent)"
      ],
      "execution_count": 6,
      "outputs": [
        {
          "output_type": "stream",
          "text": [
            "WARNING:absl:No GPU/TPU found, falling back to CPU. (Set TF_CPP_MIN_LOG_LEVEL=0 and rerun for more info.)\n"
          ],
          "name": "stderr"
        },
        {
          "output_type": "stream",
          "text": [
            "WARNING:tensorflow:From /usr/local/lib/python3.7/dist-packages/tensorflow/python/compat/v2_compat.py:96: disable_resource_variables (from tensorflow.python.ops.variable_scope) is deprecated and will be removed in a future version.\n",
            "Instructions for updating:\n",
            "non-resource variables are not supported in the long term\n"
          ],
          "name": "stdout"
        },
        {
          "output_type": "stream",
          "text": [
            "WARNING:tensorflow:From /usr/local/lib/python3.7/dist-packages/tensorflow/python/compat/v2_compat.py:96: disable_resource_variables (from tensorflow.python.ops.variable_scope) is deprecated and will be removed in a future version.\n",
            "Instructions for updating:\n",
            "non-resource variables are not supported in the long term\n"
          ],
          "name": "stderr"
        }
      ]
    },
    {
      "cell_type": "code",
      "metadata": {
        "id": "VdnU1lV-8wY_",
        "colab": {
          "base_uri": "https://localhost:8080/"
        },
        "outputId": "f76b3286-79af-40e9-9582-6df318cccae0"
      },
      "source": [
        "print('Will train agent, please be patient, may be a while...')\n",
        "random_dqn_runner.run_experiment()\n",
        "print('Done training!')"
      ],
      "execution_count": 7,
      "outputs": [
        {
          "output_type": "stream",
          "text": [
            "Will train agent, please be patient, may be a while...\n"
          ],
          "name": "stdout"
        },
        {
          "output_type": "stream",
          "text": [
            "WARNING:absl:_store_transition function doesn't have episode_end arg.\n"
          ],
          "name": "stderr"
        },
        {
          "output_type": "stream",
          "text": [
            "Steps executed: 10 Episode length: 10 Return: 10.0\r"
          ],
          "name": "stdout"
        },
        {
          "output_type": "stream",
          "text": [
            "WARNING:absl:_store_transition function doesn't have episode_end arg.\n"
          ],
          "name": "stderr"
        },
        {
          "output_type": "stream",
          "text": [
            "Steps executed: 20 Episode length: 10 Return: 10.0\r"
          ],
          "name": "stdout"
        },
        {
          "output_type": "stream",
          "text": [
            "WARNING:absl:_store_transition function doesn't have episode_end arg.\n"
          ],
          "name": "stderr"
        },
        {
          "output_type": "stream",
          "text": [
            "Steps executed: 29 Episode length: 9 Return: 9.0\r"
          ],
          "name": "stdout"
        },
        {
          "output_type": "stream",
          "text": [
            "WARNING:absl:_store_transition function doesn't have episode_end arg.\n"
          ],
          "name": "stderr"
        },
        {
          "output_type": "stream",
          "text": [
            "Steps executed: 37 Episode length: 8 Return: 8.0\r"
          ],
          "name": "stdout"
        },
        {
          "output_type": "stream",
          "text": [
            "WARNING:absl:_store_transition function doesn't have episode_end arg.\n"
          ],
          "name": "stderr"
        },
        {
          "output_type": "stream",
          "text": [
            "Steps executed: 46 Episode length: 9 Return: 9.0\r"
          ],
          "name": "stdout"
        },
        {
          "output_type": "stream",
          "text": [
            "WARNING:absl:_store_transition function doesn't have episode_end arg.\n"
          ],
          "name": "stderr"
        },
        {
          "output_type": "stream",
          "text": [
            "Steps executed: 56 Episode length: 10 Return: 10.0\r"
          ],
          "name": "stdout"
        },
        {
          "output_type": "stream",
          "text": [
            "WARNING:absl:_store_transition function doesn't have episode_end arg.\n"
          ],
          "name": "stderr"
        },
        {
          "output_type": "stream",
          "text": [
            "Steps executed: 65 Episode length: 9 Return: 9.0\r"
          ],
          "name": "stdout"
        },
        {
          "output_type": "stream",
          "text": [
            "WARNING:absl:_store_transition function doesn't have episode_end arg.\n"
          ],
          "name": "stderr"
        },
        {
          "output_type": "stream",
          "text": [
            "Steps executed: 74 Episode length: 9 Return: 9.0\r"
          ],
          "name": "stdout"
        },
        {
          "output_type": "stream",
          "text": [
            "WARNING:absl:_store_transition function doesn't have episode_end arg.\n"
          ],
          "name": "stderr"
        },
        {
          "output_type": "stream",
          "text": [
            "Steps executed: 84 Episode length: 10 Return: 10.0\r"
          ],
          "name": "stdout"
        },
        {
          "output_type": "stream",
          "text": [
            "WARNING:absl:_store_transition function doesn't have episode_end arg.\n"
          ],
          "name": "stderr"
        },
        {
          "output_type": "stream",
          "text": [
            "Steps executed: 94 Episode length: 10 Return: 10.0\r"
          ],
          "name": "stdout"
        },
        {
          "output_type": "stream",
          "text": [
            "WARNING:absl:_store_transition function doesn't have episode_end arg.\n"
          ],
          "name": "stderr"
        },
        {
          "output_type": "stream",
          "text": [
            "Steps executed: 103 Episode length: 9 Return: 9.0\r"
          ],
          "name": "stdout"
        },
        {
          "output_type": "stream",
          "text": [
            "WARNING:absl:_store_transition function doesn't have episode_end arg.\n"
          ],
          "name": "stderr"
        },
        {
          "output_type": "stream",
          "text": [
            "Steps executed: 113 Episode length: 10 Return: 10.0\r"
          ],
          "name": "stdout"
        },
        {
          "output_type": "stream",
          "text": [
            "WARNING:absl:_store_transition function doesn't have episode_end arg.\n"
          ],
          "name": "stderr"
        },
        {
          "output_type": "stream",
          "text": [
            "Steps executed: 123 Episode length: 10 Return: 10.0\r"
          ],
          "name": "stdout"
        },
        {
          "output_type": "stream",
          "text": [
            "WARNING:absl:_store_transition function doesn't have episode_end arg.\n"
          ],
          "name": "stderr"
        },
        {
          "output_type": "stream",
          "text": [
            "Steps executed: 132 Episode length: 9 Return: 9.0\r"
          ],
          "name": "stdout"
        },
        {
          "output_type": "stream",
          "text": [
            "WARNING:absl:_store_transition function doesn't have episode_end arg.\n"
          ],
          "name": "stderr"
        },
        {
          "output_type": "stream",
          "text": [
            "Steps executed: 142 Episode length: 10 Return: 10.0\r"
          ],
          "name": "stdout"
        },
        {
          "output_type": "stream",
          "text": [
            "WARNING:absl:_store_transition function doesn't have episode_end arg.\n"
          ],
          "name": "stderr"
        },
        {
          "output_type": "stream",
          "text": [
            "Steps executed: 152 Episode length: 10 Return: 10.0\r"
          ],
          "name": "stdout"
        },
        {
          "output_type": "stream",
          "text": [
            "WARNING:absl:_store_transition function doesn't have episode_end arg.\n"
          ],
          "name": "stderr"
        },
        {
          "output_type": "stream",
          "text": [
            "Steps executed: 162 Episode length: 10 Return: 10.0\r"
          ],
          "name": "stdout"
        },
        {
          "output_type": "stream",
          "text": [
            "WARNING:absl:_store_transition function doesn't have episode_end arg.\n"
          ],
          "name": "stderr"
        },
        {
          "output_type": "stream",
          "text": [
            "Steps executed: 170 Episode length: 8 Return: 8.0\r"
          ],
          "name": "stdout"
        },
        {
          "output_type": "stream",
          "text": [
            "WARNING:absl:_store_transition function doesn't have episode_end arg.\n"
          ],
          "name": "stderr"
        },
        {
          "output_type": "stream",
          "text": [
            "Steps executed: 180 Episode length: 10 Return: 10.0\r"
          ],
          "name": "stdout"
        },
        {
          "output_type": "stream",
          "text": [
            "WARNING:absl:_store_transition function doesn't have episode_end arg.\n"
          ],
          "name": "stderr"
        },
        {
          "output_type": "stream",
          "text": [
            "Steps executed: 189 Episode length: 9 Return: 9.0\r"
          ],
          "name": "stdout"
        },
        {
          "output_type": "stream",
          "text": [
            "WARNING:absl:_store_transition function doesn't have episode_end arg.\n"
          ],
          "name": "stderr"
        },
        {
          "output_type": "stream",
          "text": [
            "Steps executed: 200 Episode length: 11 Return: 11.0\r"
          ],
          "name": "stdout"
        },
        {
          "output_type": "stream",
          "text": [
            "WARNING:absl:_store_transition function doesn't have episode_end arg.\n"
          ],
          "name": "stderr"
        },
        {
          "output_type": "stream",
          "text": [
            "Steps executed: 209 Episode length: 9 Return: 9.0\r"
          ],
          "name": "stdout"
        },
        {
          "output_type": "stream",
          "text": [
            "WARNING:absl:_store_transition function doesn't have episode_end arg.\n"
          ],
          "name": "stderr"
        },
        {
          "output_type": "stream",
          "text": [
            "Steps executed: 220 Episode length: 11 Return: 11.0\r"
          ],
          "name": "stdout"
        },
        {
          "output_type": "stream",
          "text": [
            "WARNING:absl:_store_transition function doesn't have episode_end arg.\n"
          ],
          "name": "stderr"
        },
        {
          "output_type": "stream",
          "text": [
            "Steps executed: 230 Episode length: 10 Return: 10.0\r"
          ],
          "name": "stdout"
        },
        {
          "output_type": "stream",
          "text": [
            "WARNING:absl:_store_transition function doesn't have episode_end arg.\n"
          ],
          "name": "stderr"
        },
        {
          "output_type": "stream",
          "text": [
            "Steps executed: 240 Episode length: 10 Return: 10.0\r"
          ],
          "name": "stdout"
        },
        {
          "output_type": "stream",
          "text": [
            "WARNING:absl:_store_transition function doesn't have episode_end arg.\n"
          ],
          "name": "stderr"
        },
        {
          "output_type": "stream",
          "text": [
            "Steps executed: 250 Episode length: 10 Return: 10.0\r"
          ],
          "name": "stdout"
        },
        {
          "output_type": "stream",
          "text": [
            "WARNING:absl:_store_transition function doesn't have episode_end arg.\n"
          ],
          "name": "stderr"
        },
        {
          "output_type": "stream",
          "text": [
            "Steps executed: 258 Episode length: 8 Return: 8.0\r"
          ],
          "name": "stdout"
        },
        {
          "output_type": "stream",
          "text": [
            "WARNING:absl:_store_transition function doesn't have episode_end arg.\n"
          ],
          "name": "stderr"
        },
        {
          "output_type": "stream",
          "text": [
            "Steps executed: 267 Episode length: 9 Return: 9.0\r"
          ],
          "name": "stdout"
        },
        {
          "output_type": "stream",
          "text": [
            "WARNING:absl:_store_transition function doesn't have episode_end arg.\n"
          ],
          "name": "stderr"
        },
        {
          "output_type": "stream",
          "text": [
            "Steps executed: 276 Episode length: 9 Return: 9.0\r"
          ],
          "name": "stdout"
        },
        {
          "output_type": "stream",
          "text": [
            "WARNING:absl:_store_transition function doesn't have episode_end arg.\n"
          ],
          "name": "stderr"
        },
        {
          "output_type": "stream",
          "text": [
            "Steps executed: 285 Episode length: 9 Return: 9.0\r"
          ],
          "name": "stdout"
        },
        {
          "output_type": "stream",
          "text": [
            "WARNING:absl:_store_transition function doesn't have episode_end arg.\n"
          ],
          "name": "stderr"
        },
        {
          "output_type": "stream",
          "text": [
            "Steps executed: 293 Episode length: 8 Return: 8.0\r"
          ],
          "name": "stdout"
        },
        {
          "output_type": "stream",
          "text": [
            "WARNING:absl:_store_transition function doesn't have episode_end arg.\n"
          ],
          "name": "stderr"
        },
        {
          "output_type": "stream",
          "text": [
            "Steps executed: 303 Episode length: 10 Return: 10.0\r"
          ],
          "name": "stdout"
        },
        {
          "output_type": "stream",
          "text": [
            "WARNING:absl:_store_transition function doesn't have episode_end arg.\n"
          ],
          "name": "stderr"
        },
        {
          "output_type": "stream",
          "text": [
            "Steps executed: 311 Episode length: 8 Return: 8.0\r"
          ],
          "name": "stdout"
        },
        {
          "output_type": "stream",
          "text": [
            "WARNING:absl:_store_transition function doesn't have episode_end arg.\n"
          ],
          "name": "stderr"
        },
        {
          "output_type": "stream",
          "text": [
            "Steps executed: 321 Episode length: 10 Return: 10.0\r"
          ],
          "name": "stdout"
        },
        {
          "output_type": "stream",
          "text": [
            "WARNING:absl:_store_transition function doesn't have episode_end arg.\n"
          ],
          "name": "stderr"
        },
        {
          "output_type": "stream",
          "text": [
            "Steps executed: 330 Episode length: 9 Return: 9.0\r"
          ],
          "name": "stdout"
        },
        {
          "output_type": "stream",
          "text": [
            "WARNING:absl:_store_transition function doesn't have episode_end arg.\n"
          ],
          "name": "stderr"
        },
        {
          "output_type": "stream",
          "text": [
            "Steps executed: 340 Episode length: 10 Return: 10.0\r"
          ],
          "name": "stdout"
        },
        {
          "output_type": "stream",
          "text": [
            "WARNING:absl:_store_transition function doesn't have episode_end arg.\n"
          ],
          "name": "stderr"
        },
        {
          "output_type": "stream",
          "text": [
            "Steps executed: 351 Episode length: 11 Return: 11.0\r"
          ],
          "name": "stdout"
        },
        {
          "output_type": "stream",
          "text": [
            "WARNING:absl:_store_transition function doesn't have episode_end arg.\n"
          ],
          "name": "stderr"
        },
        {
          "output_type": "stream",
          "text": [
            "Steps executed: 360 Episode length: 9 Return: 9.0\r"
          ],
          "name": "stdout"
        },
        {
          "output_type": "stream",
          "text": [
            "WARNING:absl:_store_transition function doesn't have episode_end arg.\n"
          ],
          "name": "stderr"
        },
        {
          "output_type": "stream",
          "text": [
            "Steps executed: 370 Episode length: 10 Return: 10.0\r"
          ],
          "name": "stdout"
        },
        {
          "output_type": "stream",
          "text": [
            "WARNING:absl:_store_transition function doesn't have episode_end arg.\n"
          ],
          "name": "stderr"
        },
        {
          "output_type": "stream",
          "text": [
            "Steps executed: 378 Episode length: 8 Return: 8.0\r"
          ],
          "name": "stdout"
        },
        {
          "output_type": "stream",
          "text": [
            "WARNING:absl:_store_transition function doesn't have episode_end arg.\n"
          ],
          "name": "stderr"
        },
        {
          "output_type": "stream",
          "text": [
            "Steps executed: 387 Episode length: 9 Return: 9.0\r"
          ],
          "name": "stdout"
        },
        {
          "output_type": "stream",
          "text": [
            "WARNING:absl:_store_transition function doesn't have episode_end arg.\n"
          ],
          "name": "stderr"
        },
        {
          "output_type": "stream",
          "text": [
            "Steps executed: 396 Episode length: 9 Return: 9.0\r"
          ],
          "name": "stdout"
        },
        {
          "output_type": "stream",
          "text": [
            "WARNING:absl:_store_transition function doesn't have episode_end arg.\n"
          ],
          "name": "stderr"
        },
        {
          "output_type": "stream",
          "text": [
            "Steps executed: 406 Episode length: 10 Return: 10.0\r"
          ],
          "name": "stdout"
        },
        {
          "output_type": "stream",
          "text": [
            "WARNING:absl:_store_transition function doesn't have episode_end arg.\n"
          ],
          "name": "stderr"
        },
        {
          "output_type": "stream",
          "text": [
            "Steps executed: 416 Episode length: 10 Return: 10.0\r"
          ],
          "name": "stdout"
        },
        {
          "output_type": "stream",
          "text": [
            "WARNING:absl:_store_transition function doesn't have episode_end arg.\n"
          ],
          "name": "stderr"
        },
        {
          "output_type": "stream",
          "text": [
            "Steps executed: 427 Episode length: 11 Return: 11.0\r"
          ],
          "name": "stdout"
        },
        {
          "output_type": "stream",
          "text": [
            "WARNING:absl:_store_transition function doesn't have episode_end arg.\n"
          ],
          "name": "stderr"
        },
        {
          "output_type": "stream",
          "text": [
            "Steps executed: 437 Episode length: 10 Return: 10.0\r"
          ],
          "name": "stdout"
        },
        {
          "output_type": "stream",
          "text": [
            "WARNING:absl:_store_transition function doesn't have episode_end arg.\n"
          ],
          "name": "stderr"
        },
        {
          "output_type": "stream",
          "text": [
            "Steps executed: 445 Episode length: 8 Return: 8.0\r"
          ],
          "name": "stdout"
        },
        {
          "output_type": "stream",
          "text": [
            "WARNING:absl:_store_transition function doesn't have episode_end arg.\n"
          ],
          "name": "stderr"
        },
        {
          "output_type": "stream",
          "text": [
            "Steps executed: 455 Episode length: 10 Return: 10.0\r"
          ],
          "name": "stdout"
        },
        {
          "output_type": "stream",
          "text": [
            "WARNING:absl:_store_transition function doesn't have episode_end arg.\n"
          ],
          "name": "stderr"
        },
        {
          "output_type": "stream",
          "text": [
            "Steps executed: 464 Episode length: 9 Return: 9.0\r"
          ],
          "name": "stdout"
        },
        {
          "output_type": "stream",
          "text": [
            "WARNING:absl:_store_transition function doesn't have episode_end arg.\n"
          ],
          "name": "stderr"
        },
        {
          "output_type": "stream",
          "text": [
            "Steps executed: 474 Episode length: 10 Return: 10.0\r"
          ],
          "name": "stdout"
        },
        {
          "output_type": "stream",
          "text": [
            "WARNING:absl:_store_transition function doesn't have episode_end arg.\n"
          ],
          "name": "stderr"
        },
        {
          "output_type": "stream",
          "text": [
            "Steps executed: 484 Episode length: 10 Return: 10.0\r"
          ],
          "name": "stdout"
        },
        {
          "output_type": "stream",
          "text": [
            "WARNING:absl:_store_transition function doesn't have episode_end arg.\n"
          ],
          "name": "stderr"
        },
        {
          "output_type": "stream",
          "text": [
            "Steps executed: 492 Episode length: 8 Return: 8.0\r"
          ],
          "name": "stdout"
        },
        {
          "output_type": "stream",
          "text": [
            "WARNING:absl:_store_transition function doesn't have episode_end arg.\n"
          ],
          "name": "stderr"
        },
        {
          "output_type": "stream",
          "text": [
            "Steps executed: 501 Episode length: 9 Return: 9.0\r"
          ],
          "name": "stdout"
        },
        {
          "output_type": "stream",
          "text": [
            "WARNING:absl:_store_transition function doesn't have episode_end arg.\n"
          ],
          "name": "stderr"
        },
        {
          "output_type": "stream",
          "text": [
            "Steps executed: 511 Episode length: 10 Return: 10.0\r"
          ],
          "name": "stdout"
        },
        {
          "output_type": "stream",
          "text": [
            "WARNING:absl:_store_transition function doesn't have episode_end arg.\n"
          ],
          "name": "stderr"
        },
        {
          "output_type": "stream",
          "text": [
            "Steps executed: 521 Episode length: 10 Return: 10.0\r"
          ],
          "name": "stdout"
        },
        {
          "output_type": "stream",
          "text": [
            "WARNING:absl:_store_transition function doesn't have episode_end arg.\n"
          ],
          "name": "stderr"
        },
        {
          "output_type": "stream",
          "text": [
            "Steps executed: 529 Episode length: 8 Return: 8.0\r"
          ],
          "name": "stdout"
        },
        {
          "output_type": "stream",
          "text": [
            "WARNING:absl:_store_transition function doesn't have episode_end arg.\n"
          ],
          "name": "stderr"
        },
        {
          "output_type": "stream",
          "text": [
            "Steps executed: 539 Episode length: 10 Return: 10.0\r"
          ],
          "name": "stdout"
        },
        {
          "output_type": "stream",
          "text": [
            "WARNING:absl:_store_transition function doesn't have episode_end arg.\n"
          ],
          "name": "stderr"
        },
        {
          "output_type": "stream",
          "text": [
            "Steps executed: 549 Episode length: 10 Return: 10.0\r"
          ],
          "name": "stdout"
        },
        {
          "output_type": "stream",
          "text": [
            "WARNING:absl:_store_transition function doesn't have episode_end arg.\n"
          ],
          "name": "stderr"
        },
        {
          "output_type": "stream",
          "text": [
            "Steps executed: 558 Episode length: 9 Return: 9.0\r"
          ],
          "name": "stdout"
        },
        {
          "output_type": "stream",
          "text": [
            "WARNING:absl:_store_transition function doesn't have episode_end arg.\n"
          ],
          "name": "stderr"
        },
        {
          "output_type": "stream",
          "text": [
            "Steps executed: 566 Episode length: 8 Return: 8.0\r"
          ],
          "name": "stdout"
        },
        {
          "output_type": "stream",
          "text": [
            "WARNING:absl:_store_transition function doesn't have episode_end arg.\n"
          ],
          "name": "stderr"
        },
        {
          "output_type": "stream",
          "text": [
            "Steps executed: 576 Episode length: 10 Return: 10.0\r"
          ],
          "name": "stdout"
        },
        {
          "output_type": "stream",
          "text": [
            "WARNING:absl:_store_transition function doesn't have episode_end arg.\n"
          ],
          "name": "stderr"
        },
        {
          "output_type": "stream",
          "text": [
            "Steps executed: 587 Episode length: 11 Return: 11.0\r"
          ],
          "name": "stdout"
        },
        {
          "output_type": "stream",
          "text": [
            "WARNING:absl:_store_transition function doesn't have episode_end arg.\n"
          ],
          "name": "stderr"
        },
        {
          "output_type": "stream",
          "text": [
            "Steps executed: 597 Episode length: 10 Return: 10.0\r"
          ],
          "name": "stdout"
        },
        {
          "output_type": "stream",
          "text": [
            "WARNING:absl:_store_transition function doesn't have episode_end arg.\n"
          ],
          "name": "stderr"
        },
        {
          "output_type": "stream",
          "text": [
            "Steps executed: 607 Episode length: 10 Return: 10.0\r"
          ],
          "name": "stdout"
        },
        {
          "output_type": "stream",
          "text": [
            "WARNING:absl:_store_transition function doesn't have episode_end arg.\n"
          ],
          "name": "stderr"
        },
        {
          "output_type": "stream",
          "text": [
            "Steps executed: 616 Episode length: 9 Return: 9.0\r"
          ],
          "name": "stdout"
        },
        {
          "output_type": "stream",
          "text": [
            "WARNING:absl:_store_transition function doesn't have episode_end arg.\n"
          ],
          "name": "stderr"
        },
        {
          "output_type": "stream",
          "text": [
            "Steps executed: 626 Episode length: 10 Return: 10.0\r"
          ],
          "name": "stdout"
        },
        {
          "output_type": "stream",
          "text": [
            "WARNING:absl:_store_transition function doesn't have episode_end arg.\n"
          ],
          "name": "stderr"
        },
        {
          "output_type": "stream",
          "text": [
            "Steps executed: 636 Episode length: 10 Return: 10.0\r"
          ],
          "name": "stdout"
        },
        {
          "output_type": "stream",
          "text": [
            "WARNING:absl:_store_transition function doesn't have episode_end arg.\n"
          ],
          "name": "stderr"
        },
        {
          "output_type": "stream",
          "text": [
            "Steps executed: 646 Episode length: 10 Return: 10.0\r"
          ],
          "name": "stdout"
        },
        {
          "output_type": "stream",
          "text": [
            "WARNING:absl:_store_transition function doesn't have episode_end arg.\n"
          ],
          "name": "stderr"
        },
        {
          "output_type": "stream",
          "text": [
            "Steps executed: 656 Episode length: 10 Return: 10.0\r"
          ],
          "name": "stdout"
        },
        {
          "output_type": "stream",
          "text": [
            "WARNING:absl:_store_transition function doesn't have episode_end arg.\n"
          ],
          "name": "stderr"
        },
        {
          "output_type": "stream",
          "text": [
            "Steps executed: 667 Episode length: 11 Return: 11.0\r"
          ],
          "name": "stdout"
        },
        {
          "output_type": "stream",
          "text": [
            "WARNING:absl:_store_transition function doesn't have episode_end arg.\n"
          ],
          "name": "stderr"
        },
        {
          "output_type": "stream",
          "text": [
            "Steps executed: 675 Episode length: 8 Return: 8.0\r"
          ],
          "name": "stdout"
        },
        {
          "output_type": "stream",
          "text": [
            "WARNING:absl:_store_transition function doesn't have episode_end arg.\n"
          ],
          "name": "stderr"
        },
        {
          "output_type": "stream",
          "text": [
            "Steps executed: 685 Episode length: 10 Return: 10.0\r"
          ],
          "name": "stdout"
        },
        {
          "output_type": "stream",
          "text": [
            "WARNING:absl:_store_transition function doesn't have episode_end arg.\n"
          ],
          "name": "stderr"
        },
        {
          "output_type": "stream",
          "text": [
            "Steps executed: 695 Episode length: 10 Return: 10.0\r"
          ],
          "name": "stdout"
        },
        {
          "output_type": "stream",
          "text": [
            "WARNING:absl:_store_transition function doesn't have episode_end arg.\n"
          ],
          "name": "stderr"
        },
        {
          "output_type": "stream",
          "text": [
            "Steps executed: 705 Episode length: 10 Return: 10.0\r"
          ],
          "name": "stdout"
        },
        {
          "output_type": "stream",
          "text": [
            "WARNING:absl:_store_transition function doesn't have episode_end arg.\n"
          ],
          "name": "stderr"
        },
        {
          "output_type": "stream",
          "text": [
            "Steps executed: 714 Episode length: 9 Return: 9.0\r"
          ],
          "name": "stdout"
        },
        {
          "output_type": "stream",
          "text": [
            "WARNING:absl:_store_transition function doesn't have episode_end arg.\n"
          ],
          "name": "stderr"
        },
        {
          "output_type": "stream",
          "text": [
            "Steps executed: 723 Episode length: 9 Return: 9.0\r"
          ],
          "name": "stdout"
        },
        {
          "output_type": "stream",
          "text": [
            "WARNING:absl:_store_transition function doesn't have episode_end arg.\n"
          ],
          "name": "stderr"
        },
        {
          "output_type": "stream",
          "text": [
            "Steps executed: 733 Episode length: 10 Return: 10.0\r"
          ],
          "name": "stdout"
        },
        {
          "output_type": "stream",
          "text": [
            "WARNING:absl:_store_transition function doesn't have episode_end arg.\n"
          ],
          "name": "stderr"
        },
        {
          "output_type": "stream",
          "text": [
            "Steps executed: 743 Episode length: 10 Return: 10.0\r"
          ],
          "name": "stdout"
        },
        {
          "output_type": "stream",
          "text": [
            "WARNING:absl:_store_transition function doesn't have episode_end arg.\n"
          ],
          "name": "stderr"
        },
        {
          "output_type": "stream",
          "text": [
            "Steps executed: 751 Episode length: 8 Return: 8.0\r"
          ],
          "name": "stdout"
        },
        {
          "output_type": "stream",
          "text": [
            "WARNING:absl:_store_transition function doesn't have episode_end arg.\n"
          ],
          "name": "stderr"
        },
        {
          "output_type": "stream",
          "text": [
            "Steps executed: 761 Episode length: 10 Return: 10.0\r"
          ],
          "name": "stdout"
        },
        {
          "output_type": "stream",
          "text": [
            "WARNING:absl:_store_transition function doesn't have episode_end arg.\n"
          ],
          "name": "stderr"
        },
        {
          "output_type": "stream",
          "text": [
            "Steps executed: 771 Episode length: 10 Return: 10.0\r"
          ],
          "name": "stdout"
        },
        {
          "output_type": "stream",
          "text": [
            "WARNING:absl:_store_transition function doesn't have episode_end arg.\n"
          ],
          "name": "stderr"
        },
        {
          "output_type": "stream",
          "text": [
            "Steps executed: 781 Episode length: 10 Return: 10.0\r"
          ],
          "name": "stdout"
        },
        {
          "output_type": "stream",
          "text": [
            "WARNING:absl:_store_transition function doesn't have episode_end arg.\n"
          ],
          "name": "stderr"
        },
        {
          "output_type": "stream",
          "text": [
            "Steps executed: 790 Episode length: 9 Return: 9.0\r"
          ],
          "name": "stdout"
        },
        {
          "output_type": "stream",
          "text": [
            "WARNING:absl:_store_transition function doesn't have episode_end arg.\n"
          ],
          "name": "stderr"
        },
        {
          "output_type": "stream",
          "text": [
            "Steps executed: 799 Episode length: 9 Return: 9.0\r"
          ],
          "name": "stdout"
        },
        {
          "output_type": "stream",
          "text": [
            "WARNING:absl:_store_transition function doesn't have episode_end arg.\n"
          ],
          "name": "stderr"
        },
        {
          "output_type": "stream",
          "text": [
            "Steps executed: 808 Episode length: 9 Return: 9.0\r"
          ],
          "name": "stdout"
        },
        {
          "output_type": "stream",
          "text": [
            "WARNING:absl:_store_transition function doesn't have episode_end arg.\n"
          ],
          "name": "stderr"
        },
        {
          "output_type": "stream",
          "text": [
            "Steps executed: 818 Episode length: 10 Return: 10.0\r"
          ],
          "name": "stdout"
        },
        {
          "output_type": "stream",
          "text": [
            "WARNING:absl:_store_transition function doesn't have episode_end arg.\n"
          ],
          "name": "stderr"
        },
        {
          "output_type": "stream",
          "text": [
            "Steps executed: 827 Episode length: 9 Return: 9.0\r"
          ],
          "name": "stdout"
        },
        {
          "output_type": "stream",
          "text": [
            "WARNING:absl:_store_transition function doesn't have episode_end arg.\n"
          ],
          "name": "stderr"
        },
        {
          "output_type": "stream",
          "text": [
            "Steps executed: 836 Episode length: 9 Return: 9.0\r"
          ],
          "name": "stdout"
        },
        {
          "output_type": "stream",
          "text": [
            "WARNING:absl:_store_transition function doesn't have episode_end arg.\n"
          ],
          "name": "stderr"
        },
        {
          "output_type": "stream",
          "text": [
            "Steps executed: 846 Episode length: 10 Return: 10.0\r"
          ],
          "name": "stdout"
        },
        {
          "output_type": "stream",
          "text": [
            "WARNING:absl:_store_transition function doesn't have episode_end arg.\n"
          ],
          "name": "stderr"
        },
        {
          "output_type": "stream",
          "text": [
            "Steps executed: 854 Episode length: 8 Return: 8.0\r"
          ],
          "name": "stdout"
        },
        {
          "output_type": "stream",
          "text": [
            "WARNING:absl:_store_transition function doesn't have episode_end arg.\n"
          ],
          "name": "stderr"
        },
        {
          "output_type": "stream",
          "text": [
            "Steps executed: 863 Episode length: 9 Return: 9.0\r"
          ],
          "name": "stdout"
        },
        {
          "output_type": "stream",
          "text": [
            "WARNING:absl:_store_transition function doesn't have episode_end arg.\n"
          ],
          "name": "stderr"
        },
        {
          "output_type": "stream",
          "text": [
            "Steps executed: 872 Episode length: 9 Return: 9.0\r"
          ],
          "name": "stdout"
        },
        {
          "output_type": "stream",
          "text": [
            "WARNING:absl:_store_transition function doesn't have episode_end arg.\n"
          ],
          "name": "stderr"
        },
        {
          "output_type": "stream",
          "text": [
            "Steps executed: 881 Episode length: 9 Return: 9.0\r"
          ],
          "name": "stdout"
        },
        {
          "output_type": "stream",
          "text": [
            "WARNING:absl:_store_transition function doesn't have episode_end arg.\n"
          ],
          "name": "stderr"
        },
        {
          "output_type": "stream",
          "text": [
            "Steps executed: 891 Episode length: 10 Return: 10.0\r"
          ],
          "name": "stdout"
        },
        {
          "output_type": "stream",
          "text": [
            "WARNING:absl:_store_transition function doesn't have episode_end arg.\n"
          ],
          "name": "stderr"
        },
        {
          "output_type": "stream",
          "text": [
            "Steps executed: 903 Episode length: 12 Return: 12.0\r"
          ],
          "name": "stdout"
        },
        {
          "output_type": "stream",
          "text": [
            "WARNING:absl:_store_transition function doesn't have episode_end arg.\n"
          ],
          "name": "stderr"
        },
        {
          "output_type": "stream",
          "text": [
            "Steps executed: 913 Episode length: 10 Return: 10.0\r"
          ],
          "name": "stdout"
        },
        {
          "output_type": "stream",
          "text": [
            "WARNING:absl:_store_transition function doesn't have episode_end arg.\n"
          ],
          "name": "stderr"
        },
        {
          "output_type": "stream",
          "text": [
            "Steps executed: 923 Episode length: 10 Return: 10.0\r"
          ],
          "name": "stdout"
        },
        {
          "output_type": "stream",
          "text": [
            "WARNING:absl:_store_transition function doesn't have episode_end arg.\n"
          ],
          "name": "stderr"
        },
        {
          "output_type": "stream",
          "text": [
            "Steps executed: 933 Episode length: 10 Return: 10.0\r"
          ],
          "name": "stdout"
        },
        {
          "output_type": "stream",
          "text": [
            "WARNING:absl:_store_transition function doesn't have episode_end arg.\n"
          ],
          "name": "stderr"
        },
        {
          "output_type": "stream",
          "text": [
            "Steps executed: 942 Episode length: 9 Return: 9.0\r"
          ],
          "name": "stdout"
        },
        {
          "output_type": "stream",
          "text": [
            "WARNING:absl:_store_transition function doesn't have episode_end arg.\n"
          ],
          "name": "stderr"
        },
        {
          "output_type": "stream",
          "text": [
            "Steps executed: 951 Episode length: 9 Return: 9.0\r"
          ],
          "name": "stdout"
        },
        {
          "output_type": "stream",
          "text": [
            "WARNING:absl:_store_transition function doesn't have episode_end arg.\n"
          ],
          "name": "stderr"
        },
        {
          "output_type": "stream",
          "text": [
            "Steps executed: 961 Episode length: 10 Return: 10.0\r"
          ],
          "name": "stdout"
        },
        {
          "output_type": "stream",
          "text": [
            "WARNING:absl:_store_transition function doesn't have episode_end arg.\n"
          ],
          "name": "stderr"
        },
        {
          "output_type": "stream",
          "text": [
            "Steps executed: 970 Episode length: 9 Return: 9.0\r"
          ],
          "name": "stdout"
        },
        {
          "output_type": "stream",
          "text": [
            "WARNING:absl:_store_transition function doesn't have episode_end arg.\n"
          ],
          "name": "stderr"
        },
        {
          "output_type": "stream",
          "text": [
            "Steps executed: 979 Episode length: 9 Return: 9.0\r"
          ],
          "name": "stdout"
        },
        {
          "output_type": "stream",
          "text": [
            "WARNING:absl:_store_transition function doesn't have episode_end arg.\n"
          ],
          "name": "stderr"
        },
        {
          "output_type": "stream",
          "text": [
            "Steps executed: 990 Episode length: 11 Return: 11.0\r"
          ],
          "name": "stdout"
        },
        {
          "output_type": "stream",
          "text": [
            "WARNING:absl:_store_transition function doesn't have episode_end arg.\n"
          ],
          "name": "stderr"
        },
        {
          "output_type": "stream",
          "text": [
            "Steps executed: 1001 Episode length: 11 Return: 11.0\r"
          ],
          "name": "stdout"
        },
        {
          "output_type": "stream",
          "text": [
            "WARNING:absl:_store_transition function doesn't have episode_end arg.\n"
          ],
          "name": "stderr"
        },
        {
          "output_type": "stream",
          "text": [
            "Steps executed: 9 Episode length: 9 Return: 9.0\r"
          ],
          "name": "stdout"
        },
        {
          "output_type": "stream",
          "text": [
            "WARNING:absl:_store_transition function doesn't have episode_end arg.\n"
          ],
          "name": "stderr"
        },
        {
          "output_type": "stream",
          "text": [
            "Steps executed: 18 Episode length: 9 Return: 9.0\r"
          ],
          "name": "stdout"
        },
        {
          "output_type": "stream",
          "text": [
            "WARNING:absl:_store_transition function doesn't have episode_end arg.\n"
          ],
          "name": "stderr"
        },
        {
          "output_type": "stream",
          "text": [
            "Steps executed: 27 Episode length: 9 Return: 9.0\r"
          ],
          "name": "stdout"
        },
        {
          "output_type": "stream",
          "text": [
            "WARNING:absl:_store_transition function doesn't have episode_end arg.\n"
          ],
          "name": "stderr"
        },
        {
          "output_type": "stream",
          "text": [
            "Steps executed: 37 Episode length: 10 Return: 10.0\r"
          ],
          "name": "stdout"
        },
        {
          "output_type": "stream",
          "text": [
            "WARNING:absl:_store_transition function doesn't have episode_end arg.\n"
          ],
          "name": "stderr"
        },
        {
          "output_type": "stream",
          "text": [
            "Steps executed: 47 Episode length: 10 Return: 10.0\r"
          ],
          "name": "stdout"
        },
        {
          "output_type": "stream",
          "text": [
            "WARNING:absl:_store_transition function doesn't have episode_end arg.\n"
          ],
          "name": "stderr"
        },
        {
          "output_type": "stream",
          "text": [
            "Steps executed: 56 Episode length: 9 Return: 9.0\r"
          ],
          "name": "stdout"
        },
        {
          "output_type": "stream",
          "text": [
            "WARNING:absl:_store_transition function doesn't have episode_end arg.\n"
          ],
          "name": "stderr"
        },
        {
          "output_type": "stream",
          "text": [
            "Steps executed: 66 Episode length: 10 Return: 10.0\r"
          ],
          "name": "stdout"
        },
        {
          "output_type": "stream",
          "text": [
            "WARNING:absl:_store_transition function doesn't have episode_end arg.\n"
          ],
          "name": "stderr"
        },
        {
          "output_type": "stream",
          "text": [
            "Steps executed: 75 Episode length: 9 Return: 9.0\r"
          ],
          "name": "stdout"
        },
        {
          "output_type": "stream",
          "text": [
            "WARNING:absl:_store_transition function doesn't have episode_end arg.\n"
          ],
          "name": "stderr"
        },
        {
          "output_type": "stream",
          "text": [
            "Steps executed: 83 Episode length: 8 Return: 8.0\r"
          ],
          "name": "stdout"
        },
        {
          "output_type": "stream",
          "text": [
            "WARNING:absl:_store_transition function doesn't have episode_end arg.\n"
          ],
          "name": "stderr"
        },
        {
          "output_type": "stream",
          "text": [
            "Steps executed: 93 Episode length: 10 Return: 10.0\r"
          ],
          "name": "stdout"
        },
        {
          "output_type": "stream",
          "text": [
            "WARNING:absl:_store_transition function doesn't have episode_end arg.\n"
          ],
          "name": "stderr"
        },
        {
          "output_type": "stream",
          "text": [
            "Steps executed: 103 Episode length: 10 Return: 10.0\r"
          ],
          "name": "stdout"
        },
        {
          "output_type": "stream",
          "text": [
            "WARNING:absl:_store_transition function doesn't have episode_end arg.\n"
          ],
          "name": "stderr"
        },
        {
          "output_type": "stream",
          "text": [
            "Steps executed: 113 Episode length: 10 Return: 10.0\r"
          ],
          "name": "stdout"
        },
        {
          "output_type": "stream",
          "text": [
            "WARNING:absl:_store_transition function doesn't have episode_end arg.\n"
          ],
          "name": "stderr"
        },
        {
          "output_type": "stream",
          "text": [
            "Steps executed: 123 Episode length: 10 Return: 10.0\r"
          ],
          "name": "stdout"
        },
        {
          "output_type": "stream",
          "text": [
            "WARNING:absl:_store_transition function doesn't have episode_end arg.\n"
          ],
          "name": "stderr"
        },
        {
          "output_type": "stream",
          "text": [
            "Steps executed: 133 Episode length: 10 Return: 10.0\r"
          ],
          "name": "stdout"
        },
        {
          "output_type": "stream",
          "text": [
            "WARNING:absl:_store_transition function doesn't have episode_end arg.\n"
          ],
          "name": "stderr"
        },
        {
          "output_type": "stream",
          "text": [
            "Steps executed: 142 Episode length: 9 Return: 9.0\r"
          ],
          "name": "stdout"
        },
        {
          "output_type": "stream",
          "text": [
            "WARNING:absl:_store_transition function doesn't have episode_end arg.\n"
          ],
          "name": "stderr"
        },
        {
          "output_type": "stream",
          "text": [
            "Steps executed: 152 Episode length: 10 Return: 10.0\r"
          ],
          "name": "stdout"
        },
        {
          "output_type": "stream",
          "text": [
            "WARNING:absl:_store_transition function doesn't have episode_end arg.\n"
          ],
          "name": "stderr"
        },
        {
          "output_type": "stream",
          "text": [
            "Steps executed: 162 Episode length: 10 Return: 10.0\r"
          ],
          "name": "stdout"
        },
        {
          "output_type": "stream",
          "text": [
            "WARNING:absl:_store_transition function doesn't have episode_end arg.\n"
          ],
          "name": "stderr"
        },
        {
          "output_type": "stream",
          "text": [
            "Steps executed: 171 Episode length: 9 Return: 9.0\r"
          ],
          "name": "stdout"
        },
        {
          "output_type": "stream",
          "text": [
            "WARNING:absl:_store_transition function doesn't have episode_end arg.\n"
          ],
          "name": "stderr"
        },
        {
          "output_type": "stream",
          "text": [
            "Steps executed: 181 Episode length: 10 Return: 10.0\r"
          ],
          "name": "stdout"
        },
        {
          "output_type": "stream",
          "text": [
            "WARNING:absl:_store_transition function doesn't have episode_end arg.\n"
          ],
          "name": "stderr"
        },
        {
          "output_type": "stream",
          "text": [
            "Steps executed: 190 Episode length: 9 Return: 9.0\r"
          ],
          "name": "stdout"
        },
        {
          "output_type": "stream",
          "text": [
            "WARNING:absl:_store_transition function doesn't have episode_end arg.\n"
          ],
          "name": "stderr"
        },
        {
          "output_type": "stream",
          "text": [
            "Steps executed: 202 Episode length: 12 Return: 12.0\r"
          ],
          "name": "stdout"
        },
        {
          "output_type": "stream",
          "text": [
            "WARNING:absl:_store_transition function doesn't have episode_end arg.\n"
          ],
          "name": "stderr"
        },
        {
          "output_type": "stream",
          "text": [
            "Steps executed: 213 Episode length: 11 Return: 11.0\r"
          ],
          "name": "stdout"
        },
        {
          "output_type": "stream",
          "text": [
            "WARNING:absl:_store_transition function doesn't have episode_end arg.\n"
          ],
          "name": "stderr"
        },
        {
          "output_type": "stream",
          "text": [
            "Steps executed: 260 Episode length: 47 Return: 47.0\r"
          ],
          "name": "stdout"
        },
        {
          "output_type": "stream",
          "text": [
            "WARNING:absl:_store_transition function doesn't have episode_end arg.\n"
          ],
          "name": "stderr"
        },
        {
          "output_type": "stream",
          "text": [
            "Steps executed: 268 Episode length: 8 Return: 8.0\r"
          ],
          "name": "stdout"
        },
        {
          "output_type": "stream",
          "text": [
            "WARNING:absl:_store_transition function doesn't have episode_end arg.\n"
          ],
          "name": "stderr"
        },
        {
          "output_type": "stream",
          "text": [
            "Steps executed: 293 Episode length: 25 Return: 25.0\r"
          ],
          "name": "stdout"
        },
        {
          "output_type": "stream",
          "text": [
            "WARNING:absl:_store_transition function doesn't have episode_end arg.\n"
          ],
          "name": "stderr"
        },
        {
          "output_type": "stream",
          "text": [
            "Steps executed: 303 Episode length: 10 Return: 10.0\r"
          ],
          "name": "stdout"
        },
        {
          "output_type": "stream",
          "text": [
            "WARNING:absl:_store_transition function doesn't have episode_end arg.\n"
          ],
          "name": "stderr"
        },
        {
          "output_type": "stream",
          "text": [
            "Steps executed: 312 Episode length: 9 Return: 9.0\r"
          ],
          "name": "stdout"
        },
        {
          "output_type": "stream",
          "text": [
            "WARNING:absl:_store_transition function doesn't have episode_end arg.\n"
          ],
          "name": "stderr"
        },
        {
          "output_type": "stream",
          "text": [
            "Steps executed: 322 Episode length: 10 Return: 10.0\r"
          ],
          "name": "stdout"
        },
        {
          "output_type": "stream",
          "text": [
            "WARNING:absl:_store_transition function doesn't have episode_end arg.\n"
          ],
          "name": "stderr"
        },
        {
          "output_type": "stream",
          "text": [
            "Steps executed: 331 Episode length: 9 Return: 9.0\r"
          ],
          "name": "stdout"
        },
        {
          "output_type": "stream",
          "text": [
            "WARNING:absl:_store_transition function doesn't have episode_end arg.\n"
          ],
          "name": "stderr"
        },
        {
          "output_type": "stream",
          "text": [
            "Steps executed: 341 Episode length: 10 Return: 10.0\r"
          ],
          "name": "stdout"
        },
        {
          "output_type": "stream",
          "text": [
            "WARNING:absl:_store_transition function doesn't have episode_end arg.\n"
          ],
          "name": "stderr"
        },
        {
          "output_type": "stream",
          "text": [
            "Steps executed: 352 Episode length: 11 Return: 11.0\r"
          ],
          "name": "stdout"
        },
        {
          "output_type": "stream",
          "text": [
            "WARNING:absl:_store_transition function doesn't have episode_end arg.\n"
          ],
          "name": "stderr"
        },
        {
          "output_type": "stream",
          "text": [
            "Steps executed: 362 Episode length: 10 Return: 10.0\r"
          ],
          "name": "stdout"
        },
        {
          "output_type": "stream",
          "text": [
            "WARNING:absl:_store_transition function doesn't have episode_end arg.\n"
          ],
          "name": "stderr"
        },
        {
          "output_type": "stream",
          "text": [
            "Steps executed: 388 Episode length: 26 Return: 26.0\r"
          ],
          "name": "stdout"
        },
        {
          "output_type": "stream",
          "text": [
            "WARNING:absl:_store_transition function doesn't have episode_end arg.\n"
          ],
          "name": "stderr"
        },
        {
          "output_type": "stream",
          "text": [
            "Steps executed: 401 Episode length: 13 Return: 13.0\r"
          ],
          "name": "stdout"
        },
        {
          "output_type": "stream",
          "text": [
            "WARNING:absl:_store_transition function doesn't have episode_end arg.\n"
          ],
          "name": "stderr"
        },
        {
          "output_type": "stream",
          "text": [
            "Steps executed: 483 Episode length: 82 Return: 82.0\r"
          ],
          "name": "stdout"
        },
        {
          "output_type": "stream",
          "text": [
            "WARNING:absl:_store_transition function doesn't have episode_end arg.\n"
          ],
          "name": "stderr"
        },
        {
          "output_type": "stream",
          "text": [
            "Steps executed: 492 Episode length: 9 Return: 9.0\r"
          ],
          "name": "stdout"
        },
        {
          "output_type": "stream",
          "text": [
            "WARNING:absl:_store_transition function doesn't have episode_end arg.\n"
          ],
          "name": "stderr"
        },
        {
          "output_type": "stream",
          "text": [
            "Steps executed: 502 Episode length: 10 Return: 10.0\r"
          ],
          "name": "stdout"
        },
        {
          "output_type": "stream",
          "text": [
            "WARNING:absl:_store_transition function doesn't have episode_end arg.\n"
          ],
          "name": "stderr"
        },
        {
          "output_type": "stream",
          "text": [
            "Steps executed: 512 Episode length: 10 Return: 10.0\r"
          ],
          "name": "stdout"
        },
        {
          "output_type": "stream",
          "text": [
            "WARNING:absl:_store_transition function doesn't have episode_end arg.\n"
          ],
          "name": "stderr"
        },
        {
          "output_type": "stream",
          "text": [
            "Steps executed: 522 Episode length: 10 Return: 10.0\r"
          ],
          "name": "stdout"
        },
        {
          "output_type": "stream",
          "text": [
            "WARNING:absl:_store_transition function doesn't have episode_end arg.\n"
          ],
          "name": "stderr"
        },
        {
          "output_type": "stream",
          "text": [
            "Steps executed: 532 Episode length: 10 Return: 10.0\r"
          ],
          "name": "stdout"
        },
        {
          "output_type": "stream",
          "text": [
            "WARNING:absl:_store_transition function doesn't have episode_end arg.\n"
          ],
          "name": "stderr"
        },
        {
          "output_type": "stream",
          "text": [
            "Steps executed: 540 Episode length: 8 Return: 8.0\r"
          ],
          "name": "stdout"
        },
        {
          "output_type": "stream",
          "text": [
            "WARNING:absl:_store_transition function doesn't have episode_end arg.\n"
          ],
          "name": "stderr"
        },
        {
          "output_type": "stream",
          "text": [
            "Steps executed: 550 Episode length: 10 Return: 10.0\r"
          ],
          "name": "stdout"
        },
        {
          "output_type": "stream",
          "text": [
            "WARNING:absl:_store_transition function doesn't have episode_end arg.\n"
          ],
          "name": "stderr"
        },
        {
          "output_type": "stream",
          "text": [
            "Steps executed: 561 Episode length: 11 Return: 11.0\r"
          ],
          "name": "stdout"
        },
        {
          "output_type": "stream",
          "text": [
            "WARNING:absl:_store_transition function doesn't have episode_end arg.\n"
          ],
          "name": "stderr"
        },
        {
          "output_type": "stream",
          "text": [
            "Steps executed: 571 Episode length: 10 Return: 10.0\r"
          ],
          "name": "stdout"
        },
        {
          "output_type": "stream",
          "text": [
            "WARNING:absl:_store_transition function doesn't have episode_end arg.\n"
          ],
          "name": "stderr"
        },
        {
          "output_type": "stream",
          "text": [
            "Steps executed: 581 Episode length: 10 Return: 10.0\r"
          ],
          "name": "stdout"
        },
        {
          "output_type": "stream",
          "text": [
            "WARNING:absl:_store_transition function doesn't have episode_end arg.\n"
          ],
          "name": "stderr"
        },
        {
          "output_type": "stream",
          "text": [
            "Steps executed: 590 Episode length: 9 Return: 9.0\r"
          ],
          "name": "stdout"
        },
        {
          "output_type": "stream",
          "text": [
            "WARNING:absl:_store_transition function doesn't have episode_end arg.\n"
          ],
          "name": "stderr"
        },
        {
          "output_type": "stream",
          "text": [
            "Steps executed: 599 Episode length: 9 Return: 9.0\r"
          ],
          "name": "stdout"
        },
        {
          "output_type": "stream",
          "text": [
            "WARNING:absl:_store_transition function doesn't have episode_end arg.\n"
          ],
          "name": "stderr"
        },
        {
          "output_type": "stream",
          "text": [
            "Steps executed: 608 Episode length: 9 Return: 9.0\r"
          ],
          "name": "stdout"
        },
        {
          "output_type": "stream",
          "text": [
            "WARNING:absl:_store_transition function doesn't have episode_end arg.\n"
          ],
          "name": "stderr"
        },
        {
          "output_type": "stream",
          "text": [
            "Steps executed: 618 Episode length: 10 Return: 10.0\r"
          ],
          "name": "stdout"
        },
        {
          "output_type": "stream",
          "text": [
            "WARNING:absl:_store_transition function doesn't have episode_end arg.\n"
          ],
          "name": "stderr"
        },
        {
          "output_type": "stream",
          "text": [
            "Steps executed: 628 Episode length: 10 Return: 10.0\r"
          ],
          "name": "stdout"
        },
        {
          "output_type": "stream",
          "text": [
            "WARNING:absl:_store_transition function doesn't have episode_end arg.\n"
          ],
          "name": "stderr"
        },
        {
          "output_type": "stream",
          "text": [
            "Steps executed: 638 Episode length: 10 Return: 10.0\r"
          ],
          "name": "stdout"
        },
        {
          "output_type": "stream",
          "text": [
            "WARNING:absl:_store_transition function doesn't have episode_end arg.\n"
          ],
          "name": "stderr"
        },
        {
          "output_type": "stream",
          "text": [
            "Steps executed: 649 Episode length: 11 Return: 11.0\r"
          ],
          "name": "stdout"
        },
        {
          "output_type": "stream",
          "text": [
            "WARNING:absl:_store_transition function doesn't have episode_end arg.\n"
          ],
          "name": "stderr"
        },
        {
          "output_type": "stream",
          "text": [
            "Steps executed: 669 Episode length: 20 Return: 20.0\r"
          ],
          "name": "stdout"
        },
        {
          "output_type": "stream",
          "text": [
            "WARNING:absl:_store_transition function doesn't have episode_end arg.\n"
          ],
          "name": "stderr"
        },
        {
          "output_type": "stream",
          "text": [
            "Steps executed: 678 Episode length: 9 Return: 9.0\r"
          ],
          "name": "stdout"
        },
        {
          "output_type": "stream",
          "text": [
            "WARNING:absl:_store_transition function doesn't have episode_end arg.\n"
          ],
          "name": "stderr"
        },
        {
          "output_type": "stream",
          "text": [
            "Steps executed: 687 Episode length: 9 Return: 9.0\r"
          ],
          "name": "stdout"
        },
        {
          "output_type": "stream",
          "text": [
            "WARNING:absl:_store_transition function doesn't have episode_end arg.\n"
          ],
          "name": "stderr"
        },
        {
          "output_type": "stream",
          "text": [
            "Steps executed: 697 Episode length: 10 Return: 10.0\r"
          ],
          "name": "stdout"
        },
        {
          "output_type": "stream",
          "text": [
            "WARNING:absl:_store_transition function doesn't have episode_end arg.\n"
          ],
          "name": "stderr"
        },
        {
          "output_type": "stream",
          "text": [
            "Steps executed: 707 Episode length: 10 Return: 10.0\r"
          ],
          "name": "stdout"
        },
        {
          "output_type": "stream",
          "text": [
            "WARNING:absl:_store_transition function doesn't have episode_end arg.\n"
          ],
          "name": "stderr"
        },
        {
          "output_type": "stream",
          "text": [
            "Steps executed: 716 Episode length: 9 Return: 9.0\r"
          ],
          "name": "stdout"
        },
        {
          "output_type": "stream",
          "text": [
            "WARNING:absl:_store_transition function doesn't have episode_end arg.\n"
          ],
          "name": "stderr"
        },
        {
          "output_type": "stream",
          "text": [
            "Steps executed: 726 Episode length: 10 Return: 10.0\r"
          ],
          "name": "stdout"
        },
        {
          "output_type": "stream",
          "text": [
            "WARNING:absl:_store_transition function doesn't have episode_end arg.\n"
          ],
          "name": "stderr"
        },
        {
          "output_type": "stream",
          "text": [
            "Steps executed: 736 Episode length: 10 Return: 10.0\r"
          ],
          "name": "stdout"
        },
        {
          "output_type": "stream",
          "text": [
            "WARNING:absl:_store_transition function doesn't have episode_end arg.\n"
          ],
          "name": "stderr"
        },
        {
          "output_type": "stream",
          "text": [
            "Steps executed: 747 Episode length: 11 Return: 11.0\r"
          ],
          "name": "stdout"
        },
        {
          "output_type": "stream",
          "text": [
            "WARNING:absl:_store_transition function doesn't have episode_end arg.\n"
          ],
          "name": "stderr"
        },
        {
          "output_type": "stream",
          "text": [
            "Steps executed: 756 Episode length: 9 Return: 9.0\r"
          ],
          "name": "stdout"
        },
        {
          "output_type": "stream",
          "text": [
            "WARNING:absl:_store_transition function doesn't have episode_end arg.\n"
          ],
          "name": "stderr"
        },
        {
          "output_type": "stream",
          "text": [
            "Steps executed: 766 Episode length: 10 Return: 10.0\r"
          ],
          "name": "stdout"
        },
        {
          "output_type": "stream",
          "text": [
            "WARNING:absl:_store_transition function doesn't have episode_end arg.\n"
          ],
          "name": "stderr"
        },
        {
          "output_type": "stream",
          "text": [
            "Steps executed: 775 Episode length: 9 Return: 9.0\r"
          ],
          "name": "stdout"
        },
        {
          "output_type": "stream",
          "text": [
            "WARNING:absl:_store_transition function doesn't have episode_end arg.\n"
          ],
          "name": "stderr"
        },
        {
          "output_type": "stream",
          "text": [
            "Steps executed: 785 Episode length: 10 Return: 10.0\r"
          ],
          "name": "stdout"
        },
        {
          "output_type": "stream",
          "text": [
            "WARNING:absl:_store_transition function doesn't have episode_end arg.\n"
          ],
          "name": "stderr"
        },
        {
          "output_type": "stream",
          "text": [
            "Steps executed: 793 Episode length: 8 Return: 8.0\r"
          ],
          "name": "stdout"
        },
        {
          "output_type": "stream",
          "text": [
            "WARNING:absl:_store_transition function doesn't have episode_end arg.\n"
          ],
          "name": "stderr"
        },
        {
          "output_type": "stream",
          "text": [
            "Steps executed: 803 Episode length: 10 Return: 10.0\r"
          ],
          "name": "stdout"
        },
        {
          "output_type": "stream",
          "text": [
            "WARNING:absl:_store_transition function doesn't have episode_end arg.\n"
          ],
          "name": "stderr"
        },
        {
          "output_type": "stream",
          "text": [
            "Steps executed: 812 Episode length: 9 Return: 9.0\r"
          ],
          "name": "stdout"
        },
        {
          "output_type": "stream",
          "text": [
            "WARNING:absl:_store_transition function doesn't have episode_end arg.\n"
          ],
          "name": "stderr"
        },
        {
          "output_type": "stream",
          "text": [
            "Steps executed: 821 Episode length: 9 Return: 9.0\r"
          ],
          "name": "stdout"
        },
        {
          "output_type": "stream",
          "text": [
            "WARNING:absl:_store_transition function doesn't have episode_end arg.\n"
          ],
          "name": "stderr"
        },
        {
          "output_type": "stream",
          "text": [
            "Steps executed: 831 Episode length: 10 Return: 10.0\r"
          ],
          "name": "stdout"
        },
        {
          "output_type": "stream",
          "text": [
            "WARNING:absl:_store_transition function doesn't have episode_end arg.\n"
          ],
          "name": "stderr"
        },
        {
          "output_type": "stream",
          "text": [
            "Steps executed: 843 Episode length: 12 Return: 12.0\r"
          ],
          "name": "stdout"
        },
        {
          "output_type": "stream",
          "text": [
            "WARNING:absl:_store_transition function doesn't have episode_end arg.\n"
          ],
          "name": "stderr"
        },
        {
          "output_type": "stream",
          "text": [
            "Steps executed: 855 Episode length: 12 Return: 12.0\r"
          ],
          "name": "stdout"
        },
        {
          "output_type": "stream",
          "text": [
            "WARNING:absl:_store_transition function doesn't have episode_end arg.\n"
          ],
          "name": "stderr"
        },
        {
          "output_type": "stream",
          "text": [
            "Steps executed: 865 Episode length: 10 Return: 10.0\r"
          ],
          "name": "stdout"
        },
        {
          "output_type": "stream",
          "text": [
            "WARNING:absl:_store_transition function doesn't have episode_end arg.\n"
          ],
          "name": "stderr"
        },
        {
          "output_type": "stream",
          "text": [
            "Steps executed: 874 Episode length: 9 Return: 9.0\r"
          ],
          "name": "stdout"
        },
        {
          "output_type": "stream",
          "text": [
            "WARNING:absl:_store_transition function doesn't have episode_end arg.\n"
          ],
          "name": "stderr"
        },
        {
          "output_type": "stream",
          "text": [
            "Steps executed: 887 Episode length: 13 Return: 13.0\r"
          ],
          "name": "stdout"
        },
        {
          "output_type": "stream",
          "text": [
            "WARNING:absl:_store_transition function doesn't have episode_end arg.\n"
          ],
          "name": "stderr"
        },
        {
          "output_type": "stream",
          "text": [
            "Steps executed: 898 Episode length: 11 Return: 11.0\r"
          ],
          "name": "stdout"
        },
        {
          "output_type": "stream",
          "text": [
            "WARNING:absl:_store_transition function doesn't have episode_end arg.\n"
          ],
          "name": "stderr"
        },
        {
          "output_type": "stream",
          "text": [
            "Steps executed: 910 Episode length: 12 Return: 12.0\r"
          ],
          "name": "stdout"
        },
        {
          "output_type": "stream",
          "text": [
            "WARNING:absl:_store_transition function doesn't have episode_end arg.\n"
          ],
          "name": "stderr"
        },
        {
          "output_type": "stream",
          "text": [
            "Steps executed: 950 Episode length: 40 Return: 40.0\r"
          ],
          "name": "stdout"
        },
        {
          "output_type": "stream",
          "text": [
            "WARNING:absl:_store_transition function doesn't have episode_end arg.\n"
          ],
          "name": "stderr"
        },
        {
          "output_type": "stream",
          "text": [
            "Steps executed: 990 Episode length: 40 Return: 40.0\r"
          ],
          "name": "stdout"
        },
        {
          "output_type": "stream",
          "text": [
            "WARNING:absl:_store_transition function doesn't have episode_end arg.\n"
          ],
          "name": "stderr"
        },
        {
          "output_type": "stream",
          "text": [
            "Steps executed: 1058 Episode length: 68 Return: 68.0\r"
          ],
          "name": "stdout"
        },
        {
          "output_type": "stream",
          "text": [
            "WARNING:absl:_store_transition function doesn't have episode_end arg.\n"
          ],
          "name": "stderr"
        },
        {
          "output_type": "stream",
          "text": [
            "Steps executed: 102 Episode length: 102 Return: 102.0\r"
          ],
          "name": "stdout"
        },
        {
          "output_type": "stream",
          "text": [
            "WARNING:absl:_store_transition function doesn't have episode_end arg.\n"
          ],
          "name": "stderr"
        },
        {
          "output_type": "stream",
          "text": [
            "Steps executed: 245 Episode length: 143 Return: 143.0\r"
          ],
          "name": "stdout"
        },
        {
          "output_type": "stream",
          "text": [
            "WARNING:absl:_store_transition function doesn't have episode_end arg.\n"
          ],
          "name": "stderr"
        },
        {
          "output_type": "stream",
          "text": [
            "Steps executed: 371 Episode length: 126 Return: 126.0\r"
          ],
          "name": "stdout"
        },
        {
          "output_type": "stream",
          "text": [
            "WARNING:absl:_store_transition function doesn't have episode_end arg.\n"
          ],
          "name": "stderr"
        },
        {
          "output_type": "stream",
          "text": [
            "Steps executed: 519 Episode length: 148 Return: 148.0\r"
          ],
          "name": "stdout"
        },
        {
          "output_type": "stream",
          "text": [
            "WARNING:absl:_store_transition function doesn't have episode_end arg.\n"
          ],
          "name": "stderr"
        },
        {
          "output_type": "stream",
          "text": [
            "Steps executed: 674 Episode length: 155 Return: 155.0\r"
          ],
          "name": "stdout"
        },
        {
          "output_type": "stream",
          "text": [
            "WARNING:absl:_store_transition function doesn't have episode_end arg.\n"
          ],
          "name": "stderr"
        },
        {
          "output_type": "stream",
          "text": [
            "Steps executed: 874 Episode length: 200 Return: 200.0\r"
          ],
          "name": "stdout"
        },
        {
          "output_type": "stream",
          "text": [
            "WARNING:absl:_store_transition function doesn't have episode_end arg.\n"
          ],
          "name": "stderr"
        },
        {
          "output_type": "stream",
          "text": [
            "Steps executed: 1035 Episode length: 161 Return: 161.0\r"
          ],
          "name": "stdout"
        },
        {
          "output_type": "stream",
          "text": [
            "WARNING:absl:_store_transition function doesn't have episode_end arg.\n"
          ],
          "name": "stderr"
        },
        {
          "output_type": "stream",
          "text": [
            "Steps executed: 166 Episode length: 166 Return: 166.0\r"
          ],
          "name": "stdout"
        },
        {
          "output_type": "stream",
          "text": [
            "WARNING:absl:_store_transition function doesn't have episode_end arg.\n"
          ],
          "name": "stderr"
        },
        {
          "output_type": "stream",
          "text": [
            "Steps executed: 334 Episode length: 168 Return: 168.0\r"
          ],
          "name": "stdout"
        },
        {
          "output_type": "stream",
          "text": [
            "WARNING:absl:_store_transition function doesn't have episode_end arg.\n"
          ],
          "name": "stderr"
        },
        {
          "output_type": "stream",
          "text": [
            "Steps executed: 515 Episode length: 181 Return: 181.0\r"
          ],
          "name": "stdout"
        },
        {
          "output_type": "stream",
          "text": [
            "WARNING:absl:_store_transition function doesn't have episode_end arg.\n"
          ],
          "name": "stderr"
        },
        {
          "output_type": "stream",
          "text": [
            "Steps executed: 648 Episode length: 133 Return: 133.0\r"
          ],
          "name": "stdout"
        },
        {
          "output_type": "stream",
          "text": [
            "WARNING:absl:_store_transition function doesn't have episode_end arg.\n"
          ],
          "name": "stderr"
        },
        {
          "output_type": "stream",
          "text": [
            "Steps executed: 821 Episode length: 173 Return: 173.0\r"
          ],
          "name": "stdout"
        },
        {
          "output_type": "stream",
          "text": [
            "WARNING:absl:_store_transition function doesn't have episode_end arg.\n"
          ],
          "name": "stderr"
        },
        {
          "output_type": "stream",
          "text": [
            "Steps executed: 1021 Episode length: 200 Return: 200.0\r"
          ],
          "name": "stdout"
        },
        {
          "output_type": "stream",
          "text": [
            "WARNING:absl:_store_transition function doesn't have episode_end arg.\n"
          ],
          "name": "stderr"
        },
        {
          "output_type": "stream",
          "text": [
            "Steps executed: 200 Episode length: 200 Return: 200.0\r"
          ],
          "name": "stdout"
        },
        {
          "output_type": "stream",
          "text": [
            "WARNING:absl:_store_transition function doesn't have episode_end arg.\n"
          ],
          "name": "stderr"
        },
        {
          "output_type": "stream",
          "text": [
            "Steps executed: 400 Episode length: 200 Return: 200.0\r"
          ],
          "name": "stdout"
        },
        {
          "output_type": "stream",
          "text": [
            "WARNING:absl:_store_transition function doesn't have episode_end arg.\n"
          ],
          "name": "stderr"
        },
        {
          "output_type": "stream",
          "text": [
            "Steps executed: 600 Episode length: 200 Return: 200.0\r"
          ],
          "name": "stdout"
        },
        {
          "output_type": "stream",
          "text": [
            "WARNING:absl:_store_transition function doesn't have episode_end arg.\n"
          ],
          "name": "stderr"
        },
        {
          "output_type": "stream",
          "text": [
            "Steps executed: 800 Episode length: 200 Return: 200.0\r"
          ],
          "name": "stdout"
        },
        {
          "output_type": "stream",
          "text": [
            "WARNING:absl:_store_transition function doesn't have episode_end arg.\n"
          ],
          "name": "stderr"
        },
        {
          "output_type": "stream",
          "text": [
            "Steps executed: 990 Episode length: 190 Return: 190.0\r"
          ],
          "name": "stdout"
        },
        {
          "output_type": "stream",
          "text": [
            "WARNING:absl:_store_transition function doesn't have episode_end arg.\n"
          ],
          "name": "stderr"
        },
        {
          "output_type": "stream",
          "text": [
            "Steps executed: 1190 Episode length: 200 Return: 200.0\r"
          ],
          "name": "stdout"
        },
        {
          "output_type": "stream",
          "text": [
            "WARNING:absl:_store_transition function doesn't have episode_end arg.\n"
          ],
          "name": "stderr"
        },
        {
          "output_type": "stream",
          "text": [
            "Steps executed: 200 Episode length: 200 Return: 200.0\r"
          ],
          "name": "stdout"
        },
        {
          "output_type": "stream",
          "text": [
            "WARNING:absl:_store_transition function doesn't have episode_end arg.\n"
          ],
          "name": "stderr"
        },
        {
          "output_type": "stream",
          "text": [
            "Steps executed: 400 Episode length: 200 Return: 200.0\r"
          ],
          "name": "stdout"
        },
        {
          "output_type": "stream",
          "text": [
            "WARNING:absl:_store_transition function doesn't have episode_end arg.\n"
          ],
          "name": "stderr"
        },
        {
          "output_type": "stream",
          "text": [
            "Steps executed: 600 Episode length: 200 Return: 200.0\r"
          ],
          "name": "stdout"
        },
        {
          "output_type": "stream",
          "text": [
            "WARNING:absl:_store_transition function doesn't have episode_end arg.\n"
          ],
          "name": "stderr"
        },
        {
          "output_type": "stream",
          "text": [
            "Steps executed: 800 Episode length: 200 Return: 200.0\r"
          ],
          "name": "stdout"
        },
        {
          "output_type": "stream",
          "text": [
            "WARNING:absl:_store_transition function doesn't have episode_end arg.\n"
          ],
          "name": "stderr"
        },
        {
          "output_type": "stream",
          "text": [
            "Steps executed: 1000 Episode length: 200 Return: 200.0\r"
          ],
          "name": "stdout"
        },
        {
          "output_type": "stream",
          "text": [
            "WARNING:absl:_store_transition function doesn't have episode_end arg.\n"
          ],
          "name": "stderr"
        },
        {
          "output_type": "stream",
          "text": [
            "Steps executed: 162 Episode length: 162 Return: 162.0\r"
          ],
          "name": "stdout"
        },
        {
          "output_type": "stream",
          "text": [
            "WARNING:absl:_store_transition function doesn't have episode_end arg.\n"
          ],
          "name": "stderr"
        },
        {
          "output_type": "stream",
          "text": [
            "Steps executed: 326 Episode length: 164 Return: 164.0\r"
          ],
          "name": "stdout"
        },
        {
          "output_type": "stream",
          "text": [
            "WARNING:absl:_store_transition function doesn't have episode_end arg.\n"
          ],
          "name": "stderr"
        },
        {
          "output_type": "stream",
          "text": [
            "Steps executed: 474 Episode length: 148 Return: 148.0\r"
          ],
          "name": "stdout"
        },
        {
          "output_type": "stream",
          "text": [
            "WARNING:absl:_store_transition function doesn't have episode_end arg.\n"
          ],
          "name": "stderr"
        },
        {
          "output_type": "stream",
          "text": [
            "Steps executed: 628 Episode length: 154 Return: 154.0\r"
          ],
          "name": "stdout"
        },
        {
          "output_type": "stream",
          "text": [
            "WARNING:absl:_store_transition function doesn't have episode_end arg.\n"
          ],
          "name": "stderr"
        },
        {
          "output_type": "stream",
          "text": [
            "Steps executed: 765 Episode length: 137 Return: 137.0\r"
          ],
          "name": "stdout"
        },
        {
          "output_type": "stream",
          "text": [
            "WARNING:absl:_store_transition function doesn't have episode_end arg.\n"
          ],
          "name": "stderr"
        },
        {
          "output_type": "stream",
          "text": [
            "Steps executed: 930 Episode length: 165 Return: 165.0\r"
          ],
          "name": "stdout"
        },
        {
          "output_type": "stream",
          "text": [
            "WARNING:absl:_store_transition function doesn't have episode_end arg.\n"
          ],
          "name": "stderr"
        },
        {
          "output_type": "stream",
          "text": [
            "Steps executed: 1130 Episode length: 200 Return: 200.0\r"
          ],
          "name": "stdout"
        },
        {
          "output_type": "stream",
          "text": [
            "WARNING:absl:_store_transition function doesn't have episode_end arg.\n"
          ],
          "name": "stderr"
        },
        {
          "output_type": "stream",
          "text": [
            "Steps executed: 200 Episode length: 200 Return: 200.0\r"
          ],
          "name": "stdout"
        },
        {
          "output_type": "stream",
          "text": [
            "WARNING:absl:_store_transition function doesn't have episode_end arg.\n"
          ],
          "name": "stderr"
        },
        {
          "output_type": "stream",
          "text": [
            "Steps executed: 389 Episode length: 189 Return: 189.0\r"
          ],
          "name": "stdout"
        },
        {
          "output_type": "stream",
          "text": [
            "WARNING:absl:_store_transition function doesn't have episode_end arg.\n"
          ],
          "name": "stderr"
        },
        {
          "output_type": "stream",
          "text": [
            "Steps executed: 589 Episode length: 200 Return: 200.0\r"
          ],
          "name": "stdout"
        },
        {
          "output_type": "stream",
          "text": [
            "WARNING:absl:_store_transition function doesn't have episode_end arg.\n"
          ],
          "name": "stderr"
        },
        {
          "output_type": "stream",
          "text": [
            "Steps executed: 786 Episode length: 197 Return: 197.0\r"
          ],
          "name": "stdout"
        },
        {
          "output_type": "stream",
          "text": [
            "WARNING:absl:_store_transition function doesn't have episode_end arg.\n"
          ],
          "name": "stderr"
        },
        {
          "output_type": "stream",
          "text": [
            "Steps executed: 986 Episode length: 200 Return: 200.0\r"
          ],
          "name": "stdout"
        },
        {
          "output_type": "stream",
          "text": [
            "WARNING:absl:_store_transition function doesn't have episode_end arg.\n"
          ],
          "name": "stderr"
        },
        {
          "output_type": "stream",
          "text": [
            "Steps executed: 1186 Episode length: 200 Return: 200.0\r"
          ],
          "name": "stdout"
        },
        {
          "output_type": "stream",
          "text": [
            "WARNING:absl:_store_transition function doesn't have episode_end arg.\n"
          ],
          "name": "stderr"
        },
        {
          "output_type": "stream",
          "text": [
            "Steps executed: 200 Episode length: 200 Return: 200.0\r"
          ],
          "name": "stdout"
        },
        {
          "output_type": "stream",
          "text": [
            "WARNING:absl:_store_transition function doesn't have episode_end arg.\n"
          ],
          "name": "stderr"
        },
        {
          "output_type": "stream",
          "text": [
            "Steps executed: 400 Episode length: 200 Return: 200.0\r"
          ],
          "name": "stdout"
        },
        {
          "output_type": "stream",
          "text": [
            "WARNING:absl:_store_transition function doesn't have episode_end arg.\n"
          ],
          "name": "stderr"
        },
        {
          "output_type": "stream",
          "text": [
            "Steps executed: 599 Episode length: 199 Return: 199.0\r"
          ],
          "name": "stdout"
        },
        {
          "output_type": "stream",
          "text": [
            "WARNING:absl:_store_transition function doesn't have episode_end arg.\n"
          ],
          "name": "stderr"
        },
        {
          "output_type": "stream",
          "text": [
            "Steps executed: 799 Episode length: 200 Return: 200.0\r"
          ],
          "name": "stdout"
        },
        {
          "output_type": "stream",
          "text": [
            "WARNING:absl:_store_transition function doesn't have episode_end arg.\n"
          ],
          "name": "stderr"
        },
        {
          "output_type": "stream",
          "text": [
            "Steps executed: 999 Episode length: 200 Return: 200.0\r"
          ],
          "name": "stdout"
        },
        {
          "output_type": "stream",
          "text": [
            "WARNING:absl:_store_transition function doesn't have episode_end arg.\n"
          ],
          "name": "stderr"
        },
        {
          "output_type": "stream",
          "text": [
            "Steps executed: 1168 Episode length: 169 Return: 169.0\r"
          ],
          "name": "stdout"
        },
        {
          "output_type": "stream",
          "text": [
            "WARNING:absl:_store_transition function doesn't have episode_end arg.\n"
          ],
          "name": "stderr"
        },
        {
          "output_type": "stream",
          "text": [
            "Steps executed: 144 Episode length: 144 Return: 144.0\r"
          ],
          "name": "stdout"
        },
        {
          "output_type": "stream",
          "text": [
            "WARNING:absl:_store_transition function doesn't have episode_end arg.\n"
          ],
          "name": "stderr"
        },
        {
          "output_type": "stream",
          "text": [
            "Steps executed: 338 Episode length: 194 Return: 194.0\r"
          ],
          "name": "stdout"
        },
        {
          "output_type": "stream",
          "text": [
            "WARNING:absl:_store_transition function doesn't have episode_end arg.\n"
          ],
          "name": "stderr"
        },
        {
          "output_type": "stream",
          "text": [
            "Steps executed: 538 Episode length: 200 Return: 200.0\r"
          ],
          "name": "stdout"
        },
        {
          "output_type": "stream",
          "text": [
            "WARNING:absl:_store_transition function doesn't have episode_end arg.\n"
          ],
          "name": "stderr"
        },
        {
          "output_type": "stream",
          "text": [
            "Steps executed: 738 Episode length: 200 Return: 200.0\r"
          ],
          "name": "stdout"
        },
        {
          "output_type": "stream",
          "text": [
            "WARNING:absl:_store_transition function doesn't have episode_end arg.\n"
          ],
          "name": "stderr"
        },
        {
          "output_type": "stream",
          "text": [
            "Steps executed: 938 Episode length: 200 Return: 200.0\r"
          ],
          "name": "stdout"
        },
        {
          "output_type": "stream",
          "text": [
            "WARNING:absl:_store_transition function doesn't have episode_end arg.\n"
          ],
          "name": "stderr"
        },
        {
          "output_type": "stream",
          "text": [
            "Steps executed: 1138 Episode length: 200 Return: 200.0\r"
          ],
          "name": "stdout"
        },
        {
          "output_type": "stream",
          "text": [
            "WARNING:absl:_store_transition function doesn't have episode_end arg.\n"
          ],
          "name": "stderr"
        },
        {
          "output_type": "stream",
          "text": [
            "Steps executed: 199 Episode length: 199 Return: 199.0\r"
          ],
          "name": "stdout"
        },
        {
          "output_type": "stream",
          "text": [
            "WARNING:absl:_store_transition function doesn't have episode_end arg.\n"
          ],
          "name": "stderr"
        },
        {
          "output_type": "stream",
          "text": [
            "Steps executed: 367 Episode length: 168 Return: 168.0\r"
          ],
          "name": "stdout"
        },
        {
          "output_type": "stream",
          "text": [
            "WARNING:absl:_store_transition function doesn't have episode_end arg.\n"
          ],
          "name": "stderr"
        },
        {
          "output_type": "stream",
          "text": [
            "Steps executed: 538 Episode length: 171 Return: 171.0\r"
          ],
          "name": "stdout"
        },
        {
          "output_type": "stream",
          "text": [
            "WARNING:absl:_store_transition function doesn't have episode_end arg.\n"
          ],
          "name": "stderr"
        },
        {
          "output_type": "stream",
          "text": [
            "Steps executed: 731 Episode length: 193 Return: 193.0\r"
          ],
          "name": "stdout"
        },
        {
          "output_type": "stream",
          "text": [
            "WARNING:absl:_store_transition function doesn't have episode_end arg.\n"
          ],
          "name": "stderr"
        },
        {
          "output_type": "stream",
          "text": [
            "Steps executed: 897 Episode length: 166 Return: 166.0\r"
          ],
          "name": "stdout"
        },
        {
          "output_type": "stream",
          "text": [
            "WARNING:absl:_store_transition function doesn't have episode_end arg.\n"
          ],
          "name": "stderr"
        },
        {
          "output_type": "stream",
          "text": [
            "Steps executed: 1063 Episode length: 166 Return: 166.0\r"
          ],
          "name": "stdout"
        },
        {
          "output_type": "stream",
          "text": [
            "WARNING:absl:_store_transition function doesn't have episode_end arg.\n"
          ],
          "name": "stderr"
        },
        {
          "output_type": "stream",
          "text": [
            "Steps executed: 156 Episode length: 156 Return: 156.0\r"
          ],
          "name": "stdout"
        },
        {
          "output_type": "stream",
          "text": [
            "WARNING:absl:_store_transition function doesn't have episode_end arg.\n"
          ],
          "name": "stderr"
        },
        {
          "output_type": "stream",
          "text": [
            "Steps executed: 317 Episode length: 161 Return: 161.0\r"
          ],
          "name": "stdout"
        },
        {
          "output_type": "stream",
          "text": [
            "WARNING:absl:_store_transition function doesn't have episode_end arg.\n"
          ],
          "name": "stderr"
        },
        {
          "output_type": "stream",
          "text": [
            "Steps executed: 504 Episode length: 187 Return: 187.0\r"
          ],
          "name": "stdout"
        },
        {
          "output_type": "stream",
          "text": [
            "WARNING:absl:_store_transition function doesn't have episode_end arg.\n"
          ],
          "name": "stderr"
        },
        {
          "output_type": "stream",
          "text": [
            "Steps executed: 662 Episode length: 158 Return: 158.0\r"
          ],
          "name": "stdout"
        },
        {
          "output_type": "stream",
          "text": [
            "WARNING:absl:_store_transition function doesn't have episode_end arg.\n"
          ],
          "name": "stderr"
        },
        {
          "output_type": "stream",
          "text": [
            "Steps executed: 862 Episode length: 200 Return: 200.0\r"
          ],
          "name": "stdout"
        },
        {
          "output_type": "stream",
          "text": [
            "WARNING:absl:_store_transition function doesn't have episode_end arg.\n"
          ],
          "name": "stderr"
        },
        {
          "output_type": "stream",
          "text": [
            "Steps executed: 1062 Episode length: 200 Return: 200.0\r"
          ],
          "name": "stdout"
        },
        {
          "output_type": "stream",
          "text": [
            "WARNING:absl:_store_transition function doesn't have episode_end arg.\n"
          ],
          "name": "stderr"
        },
        {
          "output_type": "stream",
          "text": [
            "Steps executed: 200 Episode length: 200 Return: 200.0\r"
          ],
          "name": "stdout"
        },
        {
          "output_type": "stream",
          "text": [
            "WARNING:absl:_store_transition function doesn't have episode_end arg.\n"
          ],
          "name": "stderr"
        },
        {
          "output_type": "stream",
          "text": [
            "Steps executed: 400 Episode length: 200 Return: 200.0\r"
          ],
          "name": "stdout"
        },
        {
          "output_type": "stream",
          "text": [
            "WARNING:absl:_store_transition function doesn't have episode_end arg.\n"
          ],
          "name": "stderr"
        },
        {
          "output_type": "stream",
          "text": [
            "Steps executed: 600 Episode length: 200 Return: 200.0\r"
          ],
          "name": "stdout"
        },
        {
          "output_type": "stream",
          "text": [
            "WARNING:absl:_store_transition function doesn't have episode_end arg.\n"
          ],
          "name": "stderr"
        },
        {
          "output_type": "stream",
          "text": [
            "Steps executed: 800 Episode length: 200 Return: 200.0\r"
          ],
          "name": "stdout"
        },
        {
          "output_type": "stream",
          "text": [
            "WARNING:absl:_store_transition function doesn't have episode_end arg.\n"
          ],
          "name": "stderr"
        },
        {
          "output_type": "stream",
          "text": [
            "Steps executed: 1000 Episode length: 200 Return: 200.0\r"
          ],
          "name": "stdout"
        },
        {
          "output_type": "stream",
          "text": [
            "WARNING:absl:_store_transition function doesn't have episode_end arg.\n"
          ],
          "name": "stderr"
        },
        {
          "output_type": "stream",
          "text": [
            "Steps executed: 200 Episode length: 200 Return: 200.0\r"
          ],
          "name": "stdout"
        },
        {
          "output_type": "stream",
          "text": [
            "WARNING:absl:_store_transition function doesn't have episode_end arg.\n"
          ],
          "name": "stderr"
        },
        {
          "output_type": "stream",
          "text": [
            "Steps executed: 400 Episode length: 200 Return: 200.0\r"
          ],
          "name": "stdout"
        },
        {
          "output_type": "stream",
          "text": [
            "WARNING:absl:_store_transition function doesn't have episode_end arg.\n"
          ],
          "name": "stderr"
        },
        {
          "output_type": "stream",
          "text": [
            "Steps executed: 600 Episode length: 200 Return: 200.0\r"
          ],
          "name": "stdout"
        },
        {
          "output_type": "stream",
          "text": [
            "WARNING:absl:_store_transition function doesn't have episode_end arg.\n"
          ],
          "name": "stderr"
        },
        {
          "output_type": "stream",
          "text": [
            "Steps executed: 800 Episode length: 200 Return: 200.0\r"
          ],
          "name": "stdout"
        },
        {
          "output_type": "stream",
          "text": [
            "WARNING:absl:_store_transition function doesn't have episode_end arg.\n"
          ],
          "name": "stderr"
        },
        {
          "output_type": "stream",
          "text": [
            "Steps executed: 1000 Episode length: 200 Return: 200.0\r"
          ],
          "name": "stdout"
        },
        {
          "output_type": "stream",
          "text": [
            "WARNING:absl:_store_transition function doesn't have episode_end arg.\n"
          ],
          "name": "stderr"
        },
        {
          "output_type": "stream",
          "text": [
            "Steps executed: 200 Episode length: 200 Return: 200.0\r"
          ],
          "name": "stdout"
        },
        {
          "output_type": "stream",
          "text": [
            "WARNING:absl:_store_transition function doesn't have episode_end arg.\n"
          ],
          "name": "stderr"
        },
        {
          "output_type": "stream",
          "text": [
            "Steps executed: 400 Episode length: 200 Return: 200.0\r"
          ],
          "name": "stdout"
        },
        {
          "output_type": "stream",
          "text": [
            "WARNING:absl:_store_transition function doesn't have episode_end arg.\n"
          ],
          "name": "stderr"
        },
        {
          "output_type": "stream",
          "text": [
            "Steps executed: 600 Episode length: 200 Return: 200.0\r"
          ],
          "name": "stdout"
        },
        {
          "output_type": "stream",
          "text": [
            "WARNING:absl:_store_transition function doesn't have episode_end arg.\n"
          ],
          "name": "stderr"
        },
        {
          "output_type": "stream",
          "text": [
            "Steps executed: 800 Episode length: 200 Return: 200.0\r"
          ],
          "name": "stdout"
        },
        {
          "output_type": "stream",
          "text": [
            "WARNING:absl:_store_transition function doesn't have episode_end arg.\n"
          ],
          "name": "stderr"
        },
        {
          "output_type": "stream",
          "text": [
            "Steps executed: 1000 Episode length: 200 Return: 200.0\r"
          ],
          "name": "stdout"
        },
        {
          "output_type": "stream",
          "text": [
            "WARNING:absl:_store_transition function doesn't have episode_end arg.\n"
          ],
          "name": "stderr"
        },
        {
          "output_type": "stream",
          "text": [
            "Steps executed: 200 Episode length: 200 Return: 200.0\r"
          ],
          "name": "stdout"
        },
        {
          "output_type": "stream",
          "text": [
            "WARNING:absl:_store_transition function doesn't have episode_end arg.\n"
          ],
          "name": "stderr"
        },
        {
          "output_type": "stream",
          "text": [
            "Steps executed: 368 Episode length: 168 Return: 168.0\r"
          ],
          "name": "stdout"
        },
        {
          "output_type": "stream",
          "text": [
            "WARNING:absl:_store_transition function doesn't have episode_end arg.\n"
          ],
          "name": "stderr"
        },
        {
          "output_type": "stream",
          "text": [
            "Steps executed: 568 Episode length: 200 Return: 200.0\r"
          ],
          "name": "stdout"
        },
        {
          "output_type": "stream",
          "text": [
            "WARNING:absl:_store_transition function doesn't have episode_end arg.\n"
          ],
          "name": "stderr"
        },
        {
          "output_type": "stream",
          "text": [
            "Steps executed: 759 Episode length: 191 Return: 191.0\r"
          ],
          "name": "stdout"
        },
        {
          "output_type": "stream",
          "text": [
            "WARNING:absl:_store_transition function doesn't have episode_end arg.\n"
          ],
          "name": "stderr"
        },
        {
          "output_type": "stream",
          "text": [
            "Steps executed: 933 Episode length: 174 Return: 174.0\r"
          ],
          "name": "stdout"
        },
        {
          "output_type": "stream",
          "text": [
            "WARNING:absl:_store_transition function doesn't have episode_end arg.\n"
          ],
          "name": "stderr"
        },
        {
          "output_type": "stream",
          "text": [
            "Steps executed: 1103 Episode length: 170 Return: 170.0\r"
          ],
          "name": "stdout"
        },
        {
          "output_type": "stream",
          "text": [
            "WARNING:absl:_store_transition function doesn't have episode_end arg.\n"
          ],
          "name": "stderr"
        },
        {
          "output_type": "stream",
          "text": [
            "Steps executed: 200 Episode length: 200 Return: 200.0\r"
          ],
          "name": "stdout"
        },
        {
          "output_type": "stream",
          "text": [
            "WARNING:absl:_store_transition function doesn't have episode_end arg.\n"
          ],
          "name": "stderr"
        },
        {
          "output_type": "stream",
          "text": [
            "Steps executed: 400 Episode length: 200 Return: 200.0\r"
          ],
          "name": "stdout"
        },
        {
          "output_type": "stream",
          "text": [
            "WARNING:absl:_store_transition function doesn't have episode_end arg.\n"
          ],
          "name": "stderr"
        },
        {
          "output_type": "stream",
          "text": [
            "Steps executed: 600 Episode length: 200 Return: 200.0\r"
          ],
          "name": "stdout"
        },
        {
          "output_type": "stream",
          "text": [
            "WARNING:absl:_store_transition function doesn't have episode_end arg.\n"
          ],
          "name": "stderr"
        },
        {
          "output_type": "stream",
          "text": [
            "Steps executed: 800 Episode length: 200 Return: 200.0\r"
          ],
          "name": "stdout"
        },
        {
          "output_type": "stream",
          "text": [
            "WARNING:absl:_store_transition function doesn't have episode_end arg.\n"
          ],
          "name": "stderr"
        },
        {
          "output_type": "stream",
          "text": [
            "Steps executed: 979 Episode length: 179 Return: 179.0\r"
          ],
          "name": "stdout"
        },
        {
          "output_type": "stream",
          "text": [
            "WARNING:absl:_store_transition function doesn't have episode_end arg.\n"
          ],
          "name": "stderr"
        },
        {
          "output_type": "stream",
          "text": [
            "Steps executed: 1179 Episode length: 200 Return: 200.0\r"
          ],
          "name": "stdout"
        },
        {
          "output_type": "stream",
          "text": [
            "WARNING:absl:_store_transition function doesn't have episode_end arg.\n"
          ],
          "name": "stderr"
        },
        {
          "output_type": "stream",
          "text": [
            "Steps executed: 118 Episode length: 118 Return: 118.0\r"
          ],
          "name": "stdout"
        },
        {
          "output_type": "stream",
          "text": [
            "WARNING:absl:_store_transition function doesn't have episode_end arg.\n"
          ],
          "name": "stderr"
        },
        {
          "output_type": "stream",
          "text": [
            "Steps executed: 239 Episode length: 121 Return: 121.0\r"
          ],
          "name": "stdout"
        },
        {
          "output_type": "stream",
          "text": [
            "WARNING:absl:_store_transition function doesn't have episode_end arg.\n"
          ],
          "name": "stderr"
        },
        {
          "output_type": "stream",
          "text": [
            "Steps executed: 361 Episode length: 122 Return: 122.0\r"
          ],
          "name": "stdout"
        },
        {
          "output_type": "stream",
          "text": [
            "WARNING:absl:_store_transition function doesn't have episode_end arg.\n"
          ],
          "name": "stderr"
        },
        {
          "output_type": "stream",
          "text": [
            "Steps executed: 561 Episode length: 200 Return: 200.0\r"
          ],
          "name": "stdout"
        },
        {
          "output_type": "stream",
          "text": [
            "WARNING:absl:_store_transition function doesn't have episode_end arg.\n"
          ],
          "name": "stderr"
        },
        {
          "output_type": "stream",
          "text": [
            "Steps executed: 687 Episode length: 126 Return: 126.0\r"
          ],
          "name": "stdout"
        },
        {
          "output_type": "stream",
          "text": [
            "WARNING:absl:_store_transition function doesn't have episode_end arg.\n"
          ],
          "name": "stderr"
        },
        {
          "output_type": "stream",
          "text": [
            "Steps executed: 887 Episode length: 200 Return: 200.0\r"
          ],
          "name": "stdout"
        },
        {
          "output_type": "stream",
          "text": [
            "WARNING:absl:_store_transition function doesn't have episode_end arg.\n"
          ],
          "name": "stderr"
        },
        {
          "output_type": "stream",
          "text": [
            "Steps executed: 1087 Episode length: 200 Return: 200.0\r"
          ],
          "name": "stdout"
        },
        {
          "output_type": "stream",
          "text": [
            "WARNING:absl:_store_transition function doesn't have episode_end arg.\n"
          ],
          "name": "stderr"
        },
        {
          "output_type": "stream",
          "text": [
            "Steps executed: 182 Episode length: 182 Return: 182.0\r"
          ],
          "name": "stdout"
        },
        {
          "output_type": "stream",
          "text": [
            "WARNING:absl:_store_transition function doesn't have episode_end arg.\n"
          ],
          "name": "stderr"
        },
        {
          "output_type": "stream",
          "text": [
            "Steps executed: 331 Episode length: 149 Return: 149.0\r"
          ],
          "name": "stdout"
        },
        {
          "output_type": "stream",
          "text": [
            "WARNING:absl:_store_transition function doesn't have episode_end arg.\n"
          ],
          "name": "stderr"
        },
        {
          "output_type": "stream",
          "text": [
            "Steps executed: 455 Episode length: 124 Return: 124.0\r"
          ],
          "name": "stdout"
        },
        {
          "output_type": "stream",
          "text": [
            "WARNING:absl:_store_transition function doesn't have episode_end arg.\n"
          ],
          "name": "stderr"
        },
        {
          "output_type": "stream",
          "text": [
            "Steps executed: 632 Episode length: 177 Return: 177.0\r"
          ],
          "name": "stdout"
        },
        {
          "output_type": "stream",
          "text": [
            "WARNING:absl:_store_transition function doesn't have episode_end arg.\n"
          ],
          "name": "stderr"
        },
        {
          "output_type": "stream",
          "text": [
            "Steps executed: 831 Episode length: 199 Return: 199.0\r"
          ],
          "name": "stdout"
        },
        {
          "output_type": "stream",
          "text": [
            "WARNING:absl:_store_transition function doesn't have episode_end arg.\n"
          ],
          "name": "stderr"
        },
        {
          "output_type": "stream",
          "text": [
            "Steps executed: 1030 Episode length: 199 Return: 199.0\r"
          ],
          "name": "stdout"
        },
        {
          "output_type": "stream",
          "text": [
            "WARNING:absl:_store_transition function doesn't have episode_end arg.\n"
          ],
          "name": "stderr"
        },
        {
          "output_type": "stream",
          "text": [
            "Steps executed: 200 Episode length: 200 Return: 200.0\r"
          ],
          "name": "stdout"
        },
        {
          "output_type": "stream",
          "text": [
            "WARNING:absl:_store_transition function doesn't have episode_end arg.\n"
          ],
          "name": "stderr"
        },
        {
          "output_type": "stream",
          "text": [
            "Steps executed: 400 Episode length: 200 Return: 200.0\r"
          ],
          "name": "stdout"
        },
        {
          "output_type": "stream",
          "text": [
            "WARNING:absl:_store_transition function doesn't have episode_end arg.\n"
          ],
          "name": "stderr"
        },
        {
          "output_type": "stream",
          "text": [
            "Steps executed: 600 Episode length: 200 Return: 200.0\r"
          ],
          "name": "stdout"
        },
        {
          "output_type": "stream",
          "text": [
            "WARNING:absl:_store_transition function doesn't have episode_end arg.\n"
          ],
          "name": "stderr"
        },
        {
          "output_type": "stream",
          "text": [
            "Steps executed: 739 Episode length: 139 Return: 139.0\r"
          ],
          "name": "stdout"
        },
        {
          "output_type": "stream",
          "text": [
            "WARNING:absl:_store_transition function doesn't have episode_end arg.\n"
          ],
          "name": "stderr"
        },
        {
          "output_type": "stream",
          "text": [
            "Steps executed: 939 Episode length: 200 Return: 200.0\r"
          ],
          "name": "stdout"
        },
        {
          "output_type": "stream",
          "text": [
            "WARNING:absl:_store_transition function doesn't have episode_end arg.\n"
          ],
          "name": "stderr"
        },
        {
          "output_type": "stream",
          "text": [
            "Steps executed: 1139 Episode length: 200 Return: 200.0\r"
          ],
          "name": "stdout"
        },
        {
          "output_type": "stream",
          "text": [
            "WARNING:absl:_store_transition function doesn't have episode_end arg.\n"
          ],
          "name": "stderr"
        },
        {
          "output_type": "stream",
          "text": [
            "Steps executed: 200 Episode length: 200 Return: 200.0\r"
          ],
          "name": "stdout"
        },
        {
          "output_type": "stream",
          "text": [
            "WARNING:absl:_store_transition function doesn't have episode_end arg.\n"
          ],
          "name": "stderr"
        },
        {
          "output_type": "stream",
          "text": [
            "Steps executed: 322 Episode length: 122 Return: 122.0\r"
          ],
          "name": "stdout"
        },
        {
          "output_type": "stream",
          "text": [
            "WARNING:absl:_store_transition function doesn't have episode_end arg.\n"
          ],
          "name": "stderr"
        },
        {
          "output_type": "stream",
          "text": [
            "Steps executed: 449 Episode length: 127 Return: 127.0\r"
          ],
          "name": "stdout"
        },
        {
          "output_type": "stream",
          "text": [
            "WARNING:absl:_store_transition function doesn't have episode_end arg.\n"
          ],
          "name": "stderr"
        },
        {
          "output_type": "stream",
          "text": [
            "Steps executed: 573 Episode length: 124 Return: 124.0\r"
          ],
          "name": "stdout"
        },
        {
          "output_type": "stream",
          "text": [
            "WARNING:absl:_store_transition function doesn't have episode_end arg.\n"
          ],
          "name": "stderr"
        },
        {
          "output_type": "stream",
          "text": [
            "Steps executed: 691 Episode length: 118 Return: 118.0\r"
          ],
          "name": "stdout"
        },
        {
          "output_type": "stream",
          "text": [
            "WARNING:absl:_store_transition function doesn't have episode_end arg.\n"
          ],
          "name": "stderr"
        },
        {
          "output_type": "stream",
          "text": [
            "Steps executed: 805 Episode length: 114 Return: 114.0\r"
          ],
          "name": "stdout"
        },
        {
          "output_type": "stream",
          "text": [
            "WARNING:absl:_store_transition function doesn't have episode_end arg.\n"
          ],
          "name": "stderr"
        },
        {
          "output_type": "stream",
          "text": [
            "Steps executed: 899 Episode length: 94 Return: 94.0\r"
          ],
          "name": "stdout"
        },
        {
          "output_type": "stream",
          "text": [
            "WARNING:absl:_store_transition function doesn't have episode_end arg.\n"
          ],
          "name": "stderr"
        },
        {
          "output_type": "stream",
          "text": [
            "Steps executed: 1027 Episode length: 128 Return: 128.0\r"
          ],
          "name": "stdout"
        },
        {
          "output_type": "stream",
          "text": [
            "WARNING:absl:_store_transition function doesn't have episode_end arg.\n"
          ],
          "name": "stderr"
        },
        {
          "output_type": "stream",
          "text": [
            "Steps executed: 126 Episode length: 126 Return: 126.0\r"
          ],
          "name": "stdout"
        },
        {
          "output_type": "stream",
          "text": [
            "WARNING:absl:_store_transition function doesn't have episode_end arg.\n"
          ],
          "name": "stderr"
        },
        {
          "output_type": "stream",
          "text": [
            "Steps executed: 290 Episode length: 164 Return: 164.0\r"
          ],
          "name": "stdout"
        },
        {
          "output_type": "stream",
          "text": [
            "WARNING:absl:_store_transition function doesn't have episode_end arg.\n"
          ],
          "name": "stderr"
        },
        {
          "output_type": "stream",
          "text": [
            "Steps executed: 413 Episode length: 123 Return: 123.0\r"
          ],
          "name": "stdout"
        },
        {
          "output_type": "stream",
          "text": [
            "WARNING:absl:_store_transition function doesn't have episode_end arg.\n"
          ],
          "name": "stderr"
        },
        {
          "output_type": "stream",
          "text": [
            "Steps executed: 523 Episode length: 110 Return: 110.0\r"
          ],
          "name": "stdout"
        },
        {
          "output_type": "stream",
          "text": [
            "WARNING:absl:_store_transition function doesn't have episode_end arg.\n"
          ],
          "name": "stderr"
        },
        {
          "output_type": "stream",
          "text": [
            "Steps executed: 645 Episode length: 122 Return: 122.0\r"
          ],
          "name": "stdout"
        },
        {
          "output_type": "stream",
          "text": [
            "WARNING:absl:_store_transition function doesn't have episode_end arg.\n"
          ],
          "name": "stderr"
        },
        {
          "output_type": "stream",
          "text": [
            "Steps executed: 824 Episode length: 179 Return: 179.0\r"
          ],
          "name": "stdout"
        },
        {
          "output_type": "stream",
          "text": [
            "WARNING:absl:_store_transition function doesn't have episode_end arg.\n"
          ],
          "name": "stderr"
        },
        {
          "output_type": "stream",
          "text": [
            "Steps executed: 961 Episode length: 137 Return: 137.0\r"
          ],
          "name": "stdout"
        },
        {
          "output_type": "stream",
          "text": [
            "WARNING:absl:_store_transition function doesn't have episode_end arg.\n"
          ],
          "name": "stderr"
        },
        {
          "output_type": "stream",
          "text": [
            "Steps executed: 1161 Episode length: 200 Return: 200.0\r"
          ],
          "name": "stdout"
        },
        {
          "output_type": "stream",
          "text": [
            "WARNING:absl:_store_transition function doesn't have episode_end arg.\n"
          ],
          "name": "stderr"
        },
        {
          "output_type": "stream",
          "text": [
            "Steps executed: 122 Episode length: 122 Return: 122.0\r"
          ],
          "name": "stdout"
        },
        {
          "output_type": "stream",
          "text": [
            "WARNING:absl:_store_transition function doesn't have episode_end arg.\n"
          ],
          "name": "stderr"
        },
        {
          "output_type": "stream",
          "text": [
            "Steps executed: 243 Episode length: 121 Return: 121.0\r"
          ],
          "name": "stdout"
        },
        {
          "output_type": "stream",
          "text": [
            "WARNING:absl:_store_transition function doesn't have episode_end arg.\n"
          ],
          "name": "stderr"
        },
        {
          "output_type": "stream",
          "text": [
            "Steps executed: 361 Episode length: 118 Return: 118.0\r"
          ],
          "name": "stdout"
        },
        {
          "output_type": "stream",
          "text": [
            "WARNING:absl:_store_transition function doesn't have episode_end arg.\n"
          ],
          "name": "stderr"
        },
        {
          "output_type": "stream",
          "text": [
            "Steps executed: 478 Episode length: 117 Return: 117.0\r"
          ],
          "name": "stdout"
        },
        {
          "output_type": "stream",
          "text": [
            "WARNING:absl:_store_transition function doesn't have episode_end arg.\n"
          ],
          "name": "stderr"
        },
        {
          "output_type": "stream",
          "text": [
            "Steps executed: 604 Episode length: 126 Return: 126.0\r"
          ],
          "name": "stdout"
        },
        {
          "output_type": "stream",
          "text": [
            "WARNING:absl:_store_transition function doesn't have episode_end arg.\n"
          ],
          "name": "stderr"
        },
        {
          "output_type": "stream",
          "text": [
            "Steps executed: 711 Episode length: 107 Return: 107.0\r"
          ],
          "name": "stdout"
        },
        {
          "output_type": "stream",
          "text": [
            "WARNING:absl:_store_transition function doesn't have episode_end arg.\n"
          ],
          "name": "stderr"
        },
        {
          "output_type": "stream",
          "text": [
            "Steps executed: 822 Episode length: 111 Return: 111.0\r"
          ],
          "name": "stdout"
        },
        {
          "output_type": "stream",
          "text": [
            "WARNING:absl:_store_transition function doesn't have episode_end arg.\n"
          ],
          "name": "stderr"
        },
        {
          "output_type": "stream",
          "text": [
            "Steps executed: 930 Episode length: 108 Return: 108.0\r"
          ],
          "name": "stdout"
        },
        {
          "output_type": "stream",
          "text": [
            "WARNING:absl:_store_transition function doesn't have episode_end arg.\n"
          ],
          "name": "stderr"
        },
        {
          "output_type": "stream",
          "text": [
            "Steps executed: 1044 Episode length: 114 Return: 114.0\r"
          ],
          "name": "stdout"
        },
        {
          "output_type": "stream",
          "text": [
            "WARNING:absl:_store_transition function doesn't have episode_end arg.\n"
          ],
          "name": "stderr"
        },
        {
          "output_type": "stream",
          "text": [
            "Steps executed: 123 Episode length: 123 Return: 123.0\r"
          ],
          "name": "stdout"
        },
        {
          "output_type": "stream",
          "text": [
            "WARNING:absl:_store_transition function doesn't have episode_end arg.\n"
          ],
          "name": "stderr"
        },
        {
          "output_type": "stream",
          "text": [
            "Steps executed: 253 Episode length: 130 Return: 130.0\r"
          ],
          "name": "stdout"
        },
        {
          "output_type": "stream",
          "text": [
            "WARNING:absl:_store_transition function doesn't have episode_end arg.\n"
          ],
          "name": "stderr"
        },
        {
          "output_type": "stream",
          "text": [
            "Steps executed: 365 Episode length: 112 Return: 112.0\r"
          ],
          "name": "stdout"
        },
        {
          "output_type": "stream",
          "text": [
            "WARNING:absl:_store_transition function doesn't have episode_end arg.\n"
          ],
          "name": "stderr"
        },
        {
          "output_type": "stream",
          "text": [
            "Steps executed: 522 Episode length: 157 Return: 157.0\r"
          ],
          "name": "stdout"
        },
        {
          "output_type": "stream",
          "text": [
            "WARNING:absl:_store_transition function doesn't have episode_end arg.\n"
          ],
          "name": "stderr"
        },
        {
          "output_type": "stream",
          "text": [
            "Steps executed: 653 Episode length: 131 Return: 131.0\r"
          ],
          "name": "stdout"
        },
        {
          "output_type": "stream",
          "text": [
            "WARNING:absl:_store_transition function doesn't have episode_end arg.\n"
          ],
          "name": "stderr"
        },
        {
          "output_type": "stream",
          "text": [
            "Steps executed: 782 Episode length: 129 Return: 129.0\r"
          ],
          "name": "stdout"
        },
        {
          "output_type": "stream",
          "text": [
            "WARNING:absl:_store_transition function doesn't have episode_end arg.\n"
          ],
          "name": "stderr"
        },
        {
          "output_type": "stream",
          "text": [
            "Steps executed: 920 Episode length: 138 Return: 138.0\r"
          ],
          "name": "stdout"
        },
        {
          "output_type": "stream",
          "text": [
            "WARNING:absl:_store_transition function doesn't have episode_end arg.\n"
          ],
          "name": "stderr"
        },
        {
          "output_type": "stream",
          "text": [
            "Steps executed: 1041 Episode length: 121 Return: 121.0\r"
          ],
          "name": "stdout"
        },
        {
          "output_type": "stream",
          "text": [
            "WARNING:absl:_store_transition function doesn't have episode_end arg.\n"
          ],
          "name": "stderr"
        },
        {
          "output_type": "stream",
          "text": [
            "Steps executed: 116 Episode length: 116 Return: 116.0\r"
          ],
          "name": "stdout"
        },
        {
          "output_type": "stream",
          "text": [
            "WARNING:absl:_store_transition function doesn't have episode_end arg.\n"
          ],
          "name": "stderr"
        },
        {
          "output_type": "stream",
          "text": [
            "Steps executed: 233 Episode length: 117 Return: 117.0\r"
          ],
          "name": "stdout"
        },
        {
          "output_type": "stream",
          "text": [
            "WARNING:absl:_store_transition function doesn't have episode_end arg.\n"
          ],
          "name": "stderr"
        },
        {
          "output_type": "stream",
          "text": [
            "Steps executed: 353 Episode length: 120 Return: 120.0\r"
          ],
          "name": "stdout"
        },
        {
          "output_type": "stream",
          "text": [
            "WARNING:absl:_store_transition function doesn't have episode_end arg.\n"
          ],
          "name": "stderr"
        },
        {
          "output_type": "stream",
          "text": [
            "Steps executed: 480 Episode length: 127 Return: 127.0\r"
          ],
          "name": "stdout"
        },
        {
          "output_type": "stream",
          "text": [
            "WARNING:absl:_store_transition function doesn't have episode_end arg.\n"
          ],
          "name": "stderr"
        },
        {
          "output_type": "stream",
          "text": [
            "Steps executed: 601 Episode length: 121 Return: 121.0\r"
          ],
          "name": "stdout"
        },
        {
          "output_type": "stream",
          "text": [
            "WARNING:absl:_store_transition function doesn't have episode_end arg.\n"
          ],
          "name": "stderr"
        },
        {
          "output_type": "stream",
          "text": [
            "Steps executed: 725 Episode length: 124 Return: 124.0\r"
          ],
          "name": "stdout"
        },
        {
          "output_type": "stream",
          "text": [
            "WARNING:absl:_store_transition function doesn't have episode_end arg.\n"
          ],
          "name": "stderr"
        },
        {
          "output_type": "stream",
          "text": [
            "Steps executed: 849 Episode length: 124 Return: 124.0\r"
          ],
          "name": "stdout"
        },
        {
          "output_type": "stream",
          "text": [
            "WARNING:absl:_store_transition function doesn't have episode_end arg.\n"
          ],
          "name": "stderr"
        },
        {
          "output_type": "stream",
          "text": [
            "Steps executed: 977 Episode length: 128 Return: 128.0\r"
          ],
          "name": "stdout"
        },
        {
          "output_type": "stream",
          "text": [
            "WARNING:absl:_store_transition function doesn't have episode_end arg.\n"
          ],
          "name": "stderr"
        },
        {
          "output_type": "stream",
          "text": [
            "Steps executed: 1102 Episode length: 125 Return: 125.0\r"
          ],
          "name": "stdout"
        },
        {
          "output_type": "stream",
          "text": [
            "WARNING:absl:_store_transition function doesn't have episode_end arg.\n"
          ],
          "name": "stderr"
        },
        {
          "output_type": "stream",
          "text": [
            "Steps executed: 124 Episode length: 124 Return: 124.0\r"
          ],
          "name": "stdout"
        },
        {
          "output_type": "stream",
          "text": [
            "WARNING:absl:_store_transition function doesn't have episode_end arg.\n"
          ],
          "name": "stderr"
        },
        {
          "output_type": "stream",
          "text": [
            "Steps executed: 246 Episode length: 122 Return: 122.0\r"
          ],
          "name": "stdout"
        },
        {
          "output_type": "stream",
          "text": [
            "WARNING:absl:_store_transition function doesn't have episode_end arg.\n"
          ],
          "name": "stderr"
        },
        {
          "output_type": "stream",
          "text": [
            "Steps executed: 383 Episode length: 137 Return: 137.0\r"
          ],
          "name": "stdout"
        },
        {
          "output_type": "stream",
          "text": [
            "WARNING:absl:_store_transition function doesn't have episode_end arg.\n"
          ],
          "name": "stderr"
        },
        {
          "output_type": "stream",
          "text": [
            "Steps executed: 528 Episode length: 145 Return: 145.0\r"
          ],
          "name": "stdout"
        },
        {
          "output_type": "stream",
          "text": [
            "WARNING:absl:_store_transition function doesn't have episode_end arg.\n"
          ],
          "name": "stderr"
        },
        {
          "output_type": "stream",
          "text": [
            "Steps executed: 662 Episode length: 134 Return: 134.0\r"
          ],
          "name": "stdout"
        },
        {
          "output_type": "stream",
          "text": [
            "WARNING:absl:_store_transition function doesn't have episode_end arg.\n"
          ],
          "name": "stderr"
        },
        {
          "output_type": "stream",
          "text": [
            "Steps executed: 800 Episode length: 138 Return: 138.0\r"
          ],
          "name": "stdout"
        },
        {
          "output_type": "stream",
          "text": [
            "WARNING:absl:_store_transition function doesn't have episode_end arg.\n"
          ],
          "name": "stderr"
        },
        {
          "output_type": "stream",
          "text": [
            "Steps executed: 939 Episode length: 139 Return: 139.0\r"
          ],
          "name": "stdout"
        },
        {
          "output_type": "stream",
          "text": [
            "WARNING:absl:_store_transition function doesn't have episode_end arg.\n"
          ],
          "name": "stderr"
        },
        {
          "output_type": "stream",
          "text": [
            "Steps executed: 1096 Episode length: 157 Return: 157.0\r"
          ],
          "name": "stdout"
        },
        {
          "output_type": "stream",
          "text": [
            "WARNING:absl:_store_transition function doesn't have episode_end arg.\n"
          ],
          "name": "stderr"
        },
        {
          "output_type": "stream",
          "text": [
            "Steps executed: 157 Episode length: 157 Return: 157.0\r"
          ],
          "name": "stdout"
        },
        {
          "output_type": "stream",
          "text": [
            "WARNING:absl:_store_transition function doesn't have episode_end arg.\n"
          ],
          "name": "stderr"
        },
        {
          "output_type": "stream",
          "text": [
            "Steps executed: 293 Episode length: 136 Return: 136.0\r"
          ],
          "name": "stdout"
        },
        {
          "output_type": "stream",
          "text": [
            "WARNING:absl:_store_transition function doesn't have episode_end arg.\n"
          ],
          "name": "stderr"
        },
        {
          "output_type": "stream",
          "text": [
            "Steps executed: 448 Episode length: 155 Return: 155.0\r"
          ],
          "name": "stdout"
        },
        {
          "output_type": "stream",
          "text": [
            "WARNING:absl:_store_transition function doesn't have episode_end arg.\n"
          ],
          "name": "stderr"
        },
        {
          "output_type": "stream",
          "text": [
            "Steps executed: 584 Episode length: 136 Return: 136.0\r"
          ],
          "name": "stdout"
        },
        {
          "output_type": "stream",
          "text": [
            "WARNING:absl:_store_transition function doesn't have episode_end arg.\n"
          ],
          "name": "stderr"
        },
        {
          "output_type": "stream",
          "text": [
            "Steps executed: 732 Episode length: 148 Return: 148.0\r"
          ],
          "name": "stdout"
        },
        {
          "output_type": "stream",
          "text": [
            "WARNING:absl:_store_transition function doesn't have episode_end arg.\n"
          ],
          "name": "stderr"
        },
        {
          "output_type": "stream",
          "text": [
            "Steps executed: 865 Episode length: 133 Return: 133.0\r"
          ],
          "name": "stdout"
        },
        {
          "output_type": "stream",
          "text": [
            "WARNING:absl:_store_transition function doesn't have episode_end arg.\n"
          ],
          "name": "stderr"
        },
        {
          "output_type": "stream",
          "text": [
            "Steps executed: 1018 Episode length: 153 Return: 153.0\r"
          ],
          "name": "stdout"
        },
        {
          "output_type": "stream",
          "text": [
            "WARNING:absl:_store_transition function doesn't have episode_end arg.\n"
          ],
          "name": "stderr"
        },
        {
          "output_type": "stream",
          "text": [
            "Steps executed: 193 Episode length: 193 Return: 193.0\r"
          ],
          "name": "stdout"
        },
        {
          "output_type": "stream",
          "text": [
            "WARNING:absl:_store_transition function doesn't have episode_end arg.\n"
          ],
          "name": "stderr"
        },
        {
          "output_type": "stream",
          "text": [
            "Steps executed: 341 Episode length: 148 Return: 148.0\r"
          ],
          "name": "stdout"
        },
        {
          "output_type": "stream",
          "text": [
            "WARNING:absl:_store_transition function doesn't have episode_end arg.\n"
          ],
          "name": "stderr"
        },
        {
          "output_type": "stream",
          "text": [
            "Steps executed: 504 Episode length: 163 Return: 163.0\r"
          ],
          "name": "stdout"
        },
        {
          "output_type": "stream",
          "text": [
            "WARNING:absl:_store_transition function doesn't have episode_end arg.\n"
          ],
          "name": "stderr"
        },
        {
          "output_type": "stream",
          "text": [
            "Steps executed: 655 Episode length: 151 Return: 151.0\r"
          ],
          "name": "stdout"
        },
        {
          "output_type": "stream",
          "text": [
            "WARNING:absl:_store_transition function doesn't have episode_end arg.\n"
          ],
          "name": "stderr"
        },
        {
          "output_type": "stream",
          "text": [
            "Steps executed: 818 Episode length: 163 Return: 163.0\r"
          ],
          "name": "stdout"
        },
        {
          "output_type": "stream",
          "text": [
            "WARNING:absl:_store_transition function doesn't have episode_end arg.\n"
          ],
          "name": "stderr"
        },
        {
          "output_type": "stream",
          "text": [
            "Steps executed: 975 Episode length: 157 Return: 157.0\r"
          ],
          "name": "stdout"
        },
        {
          "output_type": "stream",
          "text": [
            "WARNING:absl:_store_transition function doesn't have episode_end arg.\n"
          ],
          "name": "stderr"
        },
        {
          "output_type": "stream",
          "text": [
            "Steps executed: 1175 Episode length: 200 Return: 200.0\r"
          ],
          "name": "stdout"
        },
        {
          "output_type": "stream",
          "text": [
            "WARNING:absl:_store_transition function doesn't have episode_end arg.\n"
          ],
          "name": "stderr"
        },
        {
          "output_type": "stream",
          "text": [
            "Steps executed: 200 Episode length: 200 Return: 200.0\r"
          ],
          "name": "stdout"
        },
        {
          "output_type": "stream",
          "text": [
            "WARNING:absl:_store_transition function doesn't have episode_end arg.\n"
          ],
          "name": "stderr"
        },
        {
          "output_type": "stream",
          "text": [
            "Steps executed: 384 Episode length: 184 Return: 184.0\r"
          ],
          "name": "stdout"
        },
        {
          "output_type": "stream",
          "text": [
            "WARNING:absl:_store_transition function doesn't have episode_end arg.\n"
          ],
          "name": "stderr"
        },
        {
          "output_type": "stream",
          "text": [
            "Steps executed: 584 Episode length: 200 Return: 200.0\r"
          ],
          "name": "stdout"
        },
        {
          "output_type": "stream",
          "text": [
            "WARNING:absl:_store_transition function doesn't have episode_end arg.\n"
          ],
          "name": "stderr"
        },
        {
          "output_type": "stream",
          "text": [
            "Steps executed: 784 Episode length: 200 Return: 200.0\r"
          ],
          "name": "stdout"
        },
        {
          "output_type": "stream",
          "text": [
            "WARNING:absl:_store_transition function doesn't have episode_end arg.\n"
          ],
          "name": "stderr"
        },
        {
          "output_type": "stream",
          "text": [
            "Steps executed: 984 Episode length: 200 Return: 200.0\r"
          ],
          "name": "stdout"
        },
        {
          "output_type": "stream",
          "text": [
            "WARNING:absl:_store_transition function doesn't have episode_end arg.\n"
          ],
          "name": "stderr"
        },
        {
          "output_type": "stream",
          "text": [
            "Steps executed: 1184 Episode length: 200 Return: 200.0\r"
          ],
          "name": "stdout"
        },
        {
          "output_type": "stream",
          "text": [
            "WARNING:absl:_store_transition function doesn't have episode_end arg.\n"
          ],
          "name": "stderr"
        },
        {
          "output_type": "stream",
          "text": [
            "Steps executed: 200 Episode length: 200 Return: 200.0\r"
          ],
          "name": "stdout"
        },
        {
          "output_type": "stream",
          "text": [
            "WARNING:absl:_store_transition function doesn't have episode_end arg.\n"
          ],
          "name": "stderr"
        },
        {
          "output_type": "stream",
          "text": [
            "Steps executed: 400 Episode length: 200 Return: 200.0\r"
          ],
          "name": "stdout"
        },
        {
          "output_type": "stream",
          "text": [
            "WARNING:absl:_store_transition function doesn't have episode_end arg.\n"
          ],
          "name": "stderr"
        },
        {
          "output_type": "stream",
          "text": [
            "Steps executed: 600 Episode length: 200 Return: 200.0\r"
          ],
          "name": "stdout"
        },
        {
          "output_type": "stream",
          "text": [
            "WARNING:absl:_store_transition function doesn't have episode_end arg.\n"
          ],
          "name": "stderr"
        },
        {
          "output_type": "stream",
          "text": [
            "Steps executed: 800 Episode length: 200 Return: 200.0\r"
          ],
          "name": "stdout"
        },
        {
          "output_type": "stream",
          "text": [
            "WARNING:absl:_store_transition function doesn't have episode_end arg.\n"
          ],
          "name": "stderr"
        },
        {
          "output_type": "stream",
          "text": [
            "Steps executed: 1000 Episode length: 200 Return: 200.0\rDone training!\n"
          ],
          "name": "stdout"
        }
      ]
    },
    {
      "cell_type": "code",
      "metadata": {
        "id": "T-jcjIatI0EL",
        "colab": {
          "base_uri": "https://localhost:8080/",
          "height": 530
        },
        "outputId": "6eab4b7d-cd5f-4e64-ef50-9adab907d08f"
      },
      "source": [
        "import seaborn as sns\n",
        "import matplotlib.pyplot as plt\n",
        "\n",
        "data = colab_utils.read_experiment(LOG_PATH, verbose=True, summary_keys=['train_episode_returns'])\n",
        "data['agent'] = 'Cartpole'\n",
        "data['run'] = 1\n",
        "\n",
        "fig, ax = plt.subplots(figsize=(16,8))\n",
        "sns.lineplot(x='iteration', y='train_episode_returns',  data=data, ax=ax)\n",
        "plt.title('Cartpole')\n",
        "plt.show()"
      ],
      "execution_count": 8,
      "outputs": [
        {
          "output_type": "stream",
          "text": [
            "Reading statistics from: /content/drive/My Drive/SaveFiles/test/dqn_test//logs/log_29\n"
          ],
          "name": "stdout"
        },
        {
          "output_type": "display_data",
          "data": {
            "image/png": "[encoded data removed]",
            "text/plain": [
              "<Figure size 1152x576 with 1 Axes>"
            ]
          },
          "metadata": {
            "tags": [],
            "needs_background": "light"
          }
        }
      ]
    }
  ]
}